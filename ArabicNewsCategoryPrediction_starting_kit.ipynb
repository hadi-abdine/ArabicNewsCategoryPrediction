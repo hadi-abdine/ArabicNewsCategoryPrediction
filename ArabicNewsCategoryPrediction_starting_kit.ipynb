{
 "cells": [
  {
   "cell_type": "markdown",
   "metadata": {
    "colab_type": "text",
    "id": "rEAgYXcM-XQz"
   },
   "source": [
    "<div style=\"text-align: left;\">\n",
    "<table style=\"width:100%; background-color:transparent;\">\n",
    "  <tr style=\"background-color:transparent;\">\n",
    "    <td style=\"background-color:transparent;\">\n",
    "<img border=\"0\" src=\"https://www.polytechnique.edu/sites/all/institutionnel/institutpolytechniqueparis_logohorizontal.png\" width=\"90%\"> </td>\n",
    "     <td style=\"background-color:transparent;\">\n",
    "<img border=\"0\" src=\"\" width=\"60%\"> </td>\n",
    "  </tr>\n",
    "</table> \n",
    "</div>\n",
    "<center><h1>Arabic News Category Prediction Challenge (ANCP)</h1></center>\n",
    "<br/>\n",
    "<center>Ahmad CHAMMA, Hadi ABDINE, Youssef FARHAT</center>"
   ]
  },
  {
   "cell_type": "markdown",
   "metadata": {
    "colab_type": "text",
    "id": "TANk-Zvk-XRL"
   },
   "source": [
    "## Table of Contents\n",
    "\n",
    "0. [Introduction](#Introduction)\n",
    "1. [Motivation](#Motivation)\n",
    "2. [Business Model](#Business-Model)\n",
    "3. [KPI and Metric](#KPI-and-Metric)\n",
    "4. [Data](#Data)\n",
    "5. [Metric](#Metric)\n",
    "6. [Data exploaration](#Data-exploration)\n",
    "7. [Predictions](#Predictions)"
   ]
  },
  {
   "cell_type": "markdown",
   "metadata": {
    "colab_type": "text",
    "id": "jLS0BBJE-XRp"
   },
   "source": [
    "# Introduction"
   ]
  },
  {
   "cell_type": "markdown",
   "metadata": {
    "colab_type": "text",
    "id": "qFi3ETgp-XSI"
   },
   "source": [
    "| <img src=\"files/NLP.png\" width=\"400\"> | <img src=\"files/arabic.png\" width=\"400\"> |\n",
    "| - | - |"
   ]
  },
  {
   "cell_type": "markdown",
   "metadata": {
    "colab_type": "text",
    "id": "W05dsBbA-XTj"
   },
   "source": [
    "\n",
    "**Why is Arabic Natural Language Processing important?**\n",
    "\n",
    "*A computer could be considered intelligent if it could carry on a conversation with a human being without the human realizing they were talking to a machine.<br>-__Alan Turing__*<br><br>\n",
    "\n",
    "By \"natural language\", we mean a language that is used for communication by humans. By combining the power of artificial intelligence, computational linguistics and computer science, __Natural Language Processing (NLP)__ helps machines to understand the natural language and communicate with humans in their own language.\n",
    "\n",
    "With the ongoing growth of the World Wide Web and social media, there is a drastic increase in online data. As the amount of data increases, the mechanisms to process it with its unstructured format and to extract meaningful information from it becomes more challenging. However, the natural language is often ambiguous and the linguistic structure can depend on many complex variables, including slang, regional dialects and social context. And that is why the development of advanced NLP techniques has been a major topic of research in the last decade. \n",
    "\n",
    "With NLP, ambiguity in language can be resolved and it adds useful numeric structure to the previously unstructed data. From then, sky is the limit on what can be done and the applications that can be developed. For example, NLP makes it possible for computers to read text, translate it, hear speech, interpret it, measure sentiment and determine which parts are important, and that is just top of the iceberg."
   ]
  },
  {
   "cell_type": "markdown",
   "metadata": {
    "colab_type": "text",
    "id": "K3JDAHg3-XUF"
   },
   "source": [
    "# Motivation\n",
    "\n",
    "*The Arabic language has surpassed all other languages in beauty and elegance. I am at a loss for words to describe its good qualitites.<br> -__Carlo Alfonso Nallino__*\n",
    "\n",
    "In this project, we are going to be looking into Arabic Natural Language Processing (ANLP). Arabic is the fifth most spoken language in the world _(according to https://www.fluentin3months.com/most-spoken-languages/)_ and is considered as the official language in 26 countries which qualifies it to be an important langauge. Because of that, a lot of textual data written in arabic language is generated whether it's from social media, a news website or google searches etc... Also, Arabic in its standard form, known as Modern Standard Arabic (MSA), is one of the 6 official languages of the United Nations. \n",
    "\n",
    "However, according to Wikipedia (https://en.wikipedia.org/wiki/Languages_used_on_the_Internet), the __Arabic__ content on the Internet doesn't represent more than 0.7%. As Arab people, we are responsable of spreading this beautiful language and introduce it with all the challenges within.\n",
    "\n",
    "Despite its importance and significance in the world, it has yet to have a major contribution in the NLP applications. Arabic has received comparatively little attention in modern computational linguistics. It is indeed a challenging topic due to the complexity of the language, its rich morphology, as well as the presence many different dialects. But with the constant advancement in the NLP field, as well as deep learning and big data, and with proper research and dedication, the creation of a great ANLP model will be considered a breakthrough in the computational liguistics.\n"
   ]
  },
  {
   "cell_type": "markdown",
   "metadata": {
    "colab_type": "text",
    "id": "3LTh3Rvx-XUd"
   },
   "source": [
    "# Business Model"
   ]
  },
  {
   "cell_type": "markdown",
   "metadata": {
    "colab_type": "text",
    "id": "7wpp8fTE-XUt"
   },
   "source": [
    "For a local news agency, it will receive hundreds of news per day of multiple category. So, workers are needed to discover the main subject of the news in order to perform the best classification. But why not let the machine do this task? In other words, why not automate it?<br>\n",
    "One the most challenges faced when working with Arabic language is the limited ressources we could use. In order to perform this NLP work, we need a structured arabic dataset of news unfortunately not present at all over the internet (there is some new works on __Arabic__ with MIT).  So, the first step was to perform some __Crawling__.<br> \n",
    "The __Crawling__ was chosen for a website with no legal issues of Lebanese __Arabic__ News. With some basic python script, we were intergrating the html format of each page and taking the most important parts such as title, main text, image link ... <br>\n",
    "The task to challenge here is to construct a good and robust nlp model in order to give the highest metric possible with the given dataset (a combination of data cleaning, tuning ...)"
   ]
  },
  {
   "cell_type": "markdown",
   "metadata": {
    "colab_type": "text",
    "id": "5X8X03CI-XU6"
   },
   "source": [
    "# KPI and Metric\n",
    "\n",
    "This predictive model can be integrated in any news providing medium. Some of the benefits and KPIs to help us track the impact of this project:\n",
    "<ul>\n",
    "  <li>Trending category shown at first</li>\n",
    "  <li>Number of users or visits to the medium</li>\n",
    "  <li>User Satisfaction with the medium integrated</li>\n",
    "</ul>\n",
    "\n"
   ]
  },
  {
   "cell_type": "markdown",
   "metadata": {
    "colab_type": "text",
    "id": "9ITGLSAn-XVF"
   },
   "source": [
    "# Data\n",
    "\n",
    "As mentioned before, __Arabic__ text data is hard to be found, and rare to find one already categorized so, the data that we will be using throughout the project is collected from a Lebanese news website www.lebanonfiles.com . This site contains all sorts of news such as economical, political news ... and what made this part challenging is that we had to extract the data ourselves in order to use it.\n",
    "\n",
    "The data collected:\n",
    "* `Id`: integer, identifier for the news</li>\n",
    "* `Title`: string, title of the news which can tell a lot about the category</li>\n",
    "* `Date`: date type, but written in arabic</li>\n",
    "* `Desc`: string, description of the news</li>\n",
    "* `Image`: string, some news may contain an image</li>"
   ]
  },
  {
   "cell_type": "markdown",
   "metadata": {
    "colab_type": "text",
    "id": "X1gJ3RN0-XVX"
   },
   "source": [
    "## Training and test\n",
    "\n",
    "The dataset has been split into 'training' and 'test' subsets. The shapes are:\n",
    "\n",
    "* training: (116 409, 5)\n",
    "* test: (38 804, 5)"
   ]
  },
  {
   "cell_type": "markdown",
   "metadata": {
    "colab_type": "text",
    "id": "PACHSvKW-XVi"
   },
   "source": [
    "# Metric"
   ]
  },
  {
   "cell_type": "markdown",
   "metadata": {
    "colab_type": "text",
    "id": "rre7kAeV-XVw"
   },
   "source": [
    "One of main challenges added in this work is the imbalanced classification case. For this, we are willing to use as metric the __f1 score__ of sklearn with the parameter __average__ set to weighted. It's a combination of the __f1 score macro__ used for multi-class classification but respecting the imbalanced case.\n",
    "\n",
    "$$\n",
    "f1_{score} = \\frac{2 \\times \\text{precision} \\times \\text{recall}}{\\text{precision} + \\text{recall}}\n",
    "$$"
   ]
  },
  {
   "cell_type": "markdown",
   "metadata": {
    "colab_type": "text",
    "id": "_Dz-HzaM-XV8"
   },
   "source": [
    "## Importing the necessary librairies"
   ]
  },
  {
   "cell_type": "code",
   "execution_count": 0,
   "metadata": {
    "colab": {},
    "colab_type": "code",
    "id": "wIjXFvEC-XWs"
   },
   "outputs": [],
   "source": [
    "import pandas as pd\n",
    "import numpy as np\n",
    "from matplotlib import pyplot as plt\n",
    "import seaborn as sns\n",
    "import re\n",
    "import datetime\n",
    "import dateutil.parser as dparser\n",
    "import nltk\n",
    "from nltk.corpus import stopwords\n",
    "import unicodedata as ud\n",
    "from sklearn.compose import ColumnTransformer\n",
    "from sklearn.pipeline import Pipeline\n",
    "from sklearn.preprocessing import FunctionTransformer\n",
    "from sklearn.pipeline import make_pipeline\n",
    "import numpy as np\n",
    "from sklearn.impute import SimpleImputer\n",
    "import warnings\n",
    "warnings.filterwarnings(\"ignore\")\n",
    "sns.set()\n",
    "%matplotlib inline\n",
    "import os\n",
    "os.environ['TF_CPP_MIN_LOG_LEVEL'] = '3'"
   ]
  },
  {
   "cell_type": "markdown",
   "metadata": {
    "colab_type": "text",
    "id": "ZPP6FXMj-XXB"
   },
   "source": [
    "## Data exploration"
   ]
  },
  {
   "cell_type": "code",
   "execution_count": 0,
   "metadata": {
    "colab": {},
    "colab_type": "code",
    "id": "tE6BZnwK-XXH"
   },
   "outputs": [],
   "source": [
    "from problem import get_train_data\n",
    "X_df, y_array = get_train_data()"
   ]
  },
  {
   "cell_type": "code",
   "execution_count": 43,
   "metadata": {
    "colab": {
     "base_uri": "https://localhost:8080/",
     "height": 206
    },
    "colab_type": "code",
    "executionInfo": {
     "elapsed": 544,
     "status": "ok",
     "timestamp": 1580585124246,
     "user": {
      "displayName": "Hadi Abdine",
      "photoUrl": "",
      "userId": "09769333924622491433"
     },
     "user_tz": -60
    },
    "id": "UgqUSZc3-XXe",
    "outputId": "12b9ac30-65ad-4eb0-f09f-a93c9c18918f"
   },
   "outputs": [
    {
     "data": {
      "text/html": [
       "<div>\n",
       "<style scoped>\n",
       "    .dataframe tbody tr th:only-of-type {\n",
       "        vertical-align: middle;\n",
       "    }\n",
       "\n",
       "    .dataframe tbody tr th {\n",
       "        vertical-align: top;\n",
       "    }\n",
       "\n",
       "    .dataframe thead th {\n",
       "        text-align: right;\n",
       "    }\n",
       "</style>\n",
       "<table border=\"1\" class=\"dataframe\">\n",
       "  <thead>\n",
       "    <tr style=\"text-align: right;\">\n",
       "      <th></th>\n",
       "      <th>Id</th>\n",
       "      <th>Title</th>\n",
       "      <th>Date</th>\n",
       "      <th>Desc</th>\n",
       "      <th>Image</th>\n",
       "    </tr>\n",
       "  </thead>\n",
       "  <tbody>\n",
       "    <tr>\n",
       "      <th>0</th>\n",
       "      <td>1313318</td>\n",
       "      <td>تكريم الشاعر موسى زغي ورئيس الجمهورية قلده وسا...</td>\n",
       "      <td>الخميس 12 نيسان 2018 - 15:37</td>\n",
       "      <td>\\n\\r\\n\\tكرمت جامعة الروح القدس - الكسليك وجامع...</td>\n",
       "      <td>http://www.lebanonfiles.com/files/images/12-04...</td>\n",
       "    </tr>\n",
       "    <tr>\n",
       "      <th>1</th>\n",
       "      <td>1413607</td>\n",
       "      <td>نائب معارض لمادورو: حزب الله يستثمر منجمين للذ...</td>\n",
       "      <td>الاثنين 14 كانون الثاني 2019 - 15:58</td>\n",
       "      <td>\\n\\n\\tكشف نائب معارض للرئيس الفنزويلي نيكولاس ...</td>\n",
       "      <td>http://www.lebanonfiles.com/files/images/14-01...</td>\n",
       "    </tr>\n",
       "    <tr>\n",
       "      <th>2</th>\n",
       "      <td>1363260</td>\n",
       "      <td>هكذا استغل داعش الأطفال في هجمات الشيشان</td>\n",
       "      <td>الخميس 23 آب 2018 - 07:29</td>\n",
       "      <td>\\n\\n\\tنشر تنظيم داعش مقطع فيديو، الأربعاء، يظه...</td>\n",
       "      <td>http://www.lebanonfiles.com/files/images/23-08...</td>\n",
       "    </tr>\n",
       "    <tr>\n",
       "      <th>3</th>\n",
       "      <td>971779</td>\n",
       "      <td>سلام ترأس اجتماعا لخلية الازمة الوزارية</td>\n",
       "      <td>الاثنين 07 كانون الأول 2015 - 18:48</td>\n",
       "      <td>\\n\\r\\n\\tترأس رئيس مجلس الوزراء تمام سلام اجتما...</td>\n",
       "      <td>http://www.lebanonfiles.com/files/images/07-12...</td>\n",
       "    </tr>\n",
       "    <tr>\n",
       "      <th>4</th>\n",
       "      <td>960499</td>\n",
       "      <td>كنعان: وصلنا الى اتفاق حول اقتراح قانون استعاد...</td>\n",
       "      <td>الأربعاء 11 تشرين الثاني 2015 - 15:01</td>\n",
       "      <td>\\n\\r\\n\\tعقد نواب من \"التيار الوطني الحر\" والمس...</td>\n",
       "      <td>http://www.lebanonfiles.com/files/images/11-11...</td>\n",
       "    </tr>\n",
       "  </tbody>\n",
       "</table>\n",
       "</div>"
      ],
      "text/plain": [
       "        Id  ...                                              Image\n",
       "0  1313318  ...  http://www.lebanonfiles.com/files/images/12-04...\n",
       "1  1413607  ...  http://www.lebanonfiles.com/files/images/14-01...\n",
       "2  1363260  ...  http://www.lebanonfiles.com/files/images/23-08...\n",
       "3   971779  ...  http://www.lebanonfiles.com/files/images/07-12...\n",
       "4   960499  ...  http://www.lebanonfiles.com/files/images/11-11...\n",
       "\n",
       "[5 rows x 5 columns]"
      ]
     },
     "execution_count": 43,
     "metadata": {
      "tags": []
     },
     "output_type": "execute_result"
    }
   ],
   "source": [
    "X_df.head(5)"
   ]
  },
  {
   "cell_type": "code",
   "execution_count": 44,
   "metadata": {
    "colab": {
     "base_uri": "https://localhost:8080/",
     "height": 35
    },
    "colab_type": "code",
    "executionInfo": {
     "elapsed": 539,
     "status": "ok",
     "timestamp": 1580585127821,
     "user": {
      "displayName": "Hadi Abdine",
      "photoUrl": "",
      "userId": "09769333924622491433"
     },
     "user_tz": -60
    },
    "id": "VMUR0iNI-XXz",
    "outputId": "fe6094bb-741b-4b80-8004-76d688257b27"
   },
   "outputs": [
    {
     "data": {
      "text/plain": [
       "(116409, 5)"
      ]
     },
     "execution_count": 44,
     "metadata": {
      "tags": []
     },
     "output_type": "execute_result"
    }
   ],
   "source": [
    "X_df.shape"
   ]
  },
  {
   "cell_type": "code",
   "execution_count": 45,
   "metadata": {
    "colab": {
     "base_uri": "https://localhost:8080/",
     "height": 127
    },
    "colab_type": "code",
    "executionInfo": {
     "elapsed": 585,
     "status": "ok",
     "timestamp": 1580585130185,
     "user": {
      "displayName": "Hadi Abdine",
      "photoUrl": "",
      "userId": "09769333924622491433"
     },
     "user_tz": -60
    },
    "id": "I96ID2dr-XYK",
    "outputId": "306305bc-df5d-4d12-8f12-c3332db79d1f"
   },
   "outputs": [
    {
     "data": {
      "text/plain": [
       "Id       0.000000\n",
       "Title    0.000000\n",
       "Date     0.000000\n",
       "Desc     0.000807\n",
       "Image    0.036776\n",
       "dtype: float64"
      ]
     },
     "execution_count": 45,
     "metadata": {
      "tags": []
     },
     "output_type": "execute_result"
    }
   ],
   "source": [
    "# proportion of NaN values\n",
    "X_df.isna().sum() / X_df.shape[0]"
   ]
  },
  {
   "cell_type": "code",
   "execution_count": 46,
   "metadata": {
    "colab": {
     "base_uri": "https://localhost:8080/",
     "height": 127
    },
    "colab_type": "code",
    "executionInfo": {
     "elapsed": 1139,
     "status": "ok",
     "timestamp": 1580585132473,
     "user": {
      "displayName": "Hadi Abdine",
      "photoUrl": "",
      "userId": "09769333924622491433"
     },
     "user_tz": -60
    },
    "id": "bAY355iV-XYh",
    "outputId": "2d8caccc-df72-4272-fa9b-4a39f4426c7e"
   },
   "outputs": [
    {
     "data": {
      "text/plain": [
       "Id       116402\n",
       "Title    115474\n",
       "Date     111403\n",
       "Desc     116212\n",
       "Image    109996\n",
       "dtype: int64"
      ]
     },
     "execution_count": 46,
     "metadata": {
      "tags": []
     },
     "output_type": "execute_result"
    }
   ],
   "source": [
    "# number of unique values\n",
    "X_df.nunique()"
   ]
  },
  {
   "cell_type": "code",
   "execution_count": 47,
   "metadata": {
    "colab": {
     "base_uri": "https://localhost:8080/",
     "height": 127
    },
    "colab_type": "code",
    "executionInfo": {
     "elapsed": 564,
     "status": "ok",
     "timestamp": 1580585134011,
     "user": {
      "displayName": "Hadi Abdine",
      "photoUrl": "",
      "userId": "09769333924622491433"
     },
     "user_tz": -60
    },
    "id": "mB2WgbWU-XZB",
    "outputId": "9d8e5641-96fd-4a98-dacf-220c1a9e9916"
   },
   "outputs": [
    {
     "data": {
      "text/plain": [
       "Id        int64\n",
       "Title    object\n",
       "Date     object\n",
       "Desc     object\n",
       "Image    object\n",
       "dtype: object"
      ]
     },
     "execution_count": 47,
     "metadata": {
      "tags": []
     },
     "output_type": "execute_result"
    }
   ],
   "source": [
    "X_df.dtypes"
   ]
  },
  {
   "cell_type": "code",
   "execution_count": 48,
   "metadata": {
    "colab": {
     "base_uri": "https://localhost:8080/",
     "height": 394
    },
    "colab_type": "code",
    "executionInfo": {
     "elapsed": 1233,
     "status": "ok",
     "timestamp": 1580585136040,
     "user": {
      "displayName": "Hadi Abdine",
      "photoUrl": "",
      "userId": "09769333924622491433"
     },
     "user_tz": -60
    },
    "id": "_LX78jZU-XZW",
    "outputId": "6004b281-5149-4f22-e2b7-dd75a35ba3a3"
   },
   "outputs": [
    {
     "data": {
      "text/html": [
       "<div>\n",
       "<style scoped>\n",
       "    .dataframe tbody tr th:only-of-type {\n",
       "        vertical-align: middle;\n",
       "    }\n",
       "\n",
       "    .dataframe tbody tr th {\n",
       "        vertical-align: top;\n",
       "    }\n",
       "\n",
       "    .dataframe thead th {\n",
       "        text-align: right;\n",
       "    }\n",
       "</style>\n",
       "<table border=\"1\" class=\"dataframe\">\n",
       "  <thead>\n",
       "    <tr style=\"text-align: right;\">\n",
       "      <th></th>\n",
       "      <th>Id</th>\n",
       "      <th>Title</th>\n",
       "      <th>Date</th>\n",
       "      <th>Desc</th>\n",
       "      <th>Image</th>\n",
       "    </tr>\n",
       "  </thead>\n",
       "  <tbody>\n",
       "    <tr>\n",
       "      <th>count</th>\n",
       "      <td>1.164090e+05</td>\n",
       "      <td>116409</td>\n",
       "      <td>116409</td>\n",
       "      <td>116315</td>\n",
       "      <td>112128</td>\n",
       "    </tr>\n",
       "    <tr>\n",
       "      <th>unique</th>\n",
       "      <td>NaN</td>\n",
       "      <td>115474</td>\n",
       "      <td>111403</td>\n",
       "      <td>116212</td>\n",
       "      <td>109996</td>\n",
       "    </tr>\n",
       "    <tr>\n",
       "      <th>top</th>\n",
       "      <td>NaN</td>\n",
       "      <td>الدفاع المدني: مهمات إنقاذ وإسعاف وإخماد حرائق...</td>\n",
       "      <td>الثلاثاء 09 تشرين الأول 2018 - 11:58</td>\n",
       "      <td>\\n\\r\\n\\tحافظ الدولار الاميركي في سوق بيروت الم...</td>\n",
       "      <td>http://www.lebanonfiles.com/files/images/19-09...</td>\n",
       "    </tr>\n",
       "    <tr>\n",
       "      <th>freq</th>\n",
       "      <td>NaN</td>\n",
       "      <td>141</td>\n",
       "      <td>10</td>\n",
       "      <td>4</td>\n",
       "      <td>8</td>\n",
       "    </tr>\n",
       "    <tr>\n",
       "      <th>mean</th>\n",
       "      <td>1.285414e+06</td>\n",
       "      <td>NaN</td>\n",
       "      <td>NaN</td>\n",
       "      <td>NaN</td>\n",
       "      <td>NaN</td>\n",
       "    </tr>\n",
       "    <tr>\n",
       "      <th>std</th>\n",
       "      <td>2.239324e+05</td>\n",
       "      <td>NaN</td>\n",
       "      <td>NaN</td>\n",
       "      <td>NaN</td>\n",
       "      <td>NaN</td>\n",
       "    </tr>\n",
       "    <tr>\n",
       "      <th>min</th>\n",
       "      <td>9.000010e+05</td>\n",
       "      <td>NaN</td>\n",
       "      <td>NaN</td>\n",
       "      <td>NaN</td>\n",
       "      <td>NaN</td>\n",
       "    </tr>\n",
       "    <tr>\n",
       "      <th>25%</th>\n",
       "      <td>9.993410e+05</td>\n",
       "      <td>NaN</td>\n",
       "      <td>NaN</td>\n",
       "      <td>NaN</td>\n",
       "      <td>NaN</td>\n",
       "    </tr>\n",
       "    <tr>\n",
       "      <th>50%</th>\n",
       "      <td>1.372597e+06</td>\n",
       "      <td>NaN</td>\n",
       "      <td>NaN</td>\n",
       "      <td>NaN</td>\n",
       "      <td>NaN</td>\n",
       "    </tr>\n",
       "    <tr>\n",
       "      <th>75%</th>\n",
       "      <td>1.461524e+06</td>\n",
       "      <td>NaN</td>\n",
       "      <td>NaN</td>\n",
       "      <td>NaN</td>\n",
       "      <td>NaN</td>\n",
       "    </tr>\n",
       "    <tr>\n",
       "      <th>max</th>\n",
       "      <td>1.560310e+06</td>\n",
       "      <td>NaN</td>\n",
       "      <td>NaN</td>\n",
       "      <td>NaN</td>\n",
       "      <td>NaN</td>\n",
       "    </tr>\n",
       "  </tbody>\n",
       "</table>\n",
       "</div>"
      ],
      "text/plain": [
       "                  Id  ...                                              Image\n",
       "count   1.164090e+05  ...                                             112128\n",
       "unique           NaN  ...                                             109996\n",
       "top              NaN  ...  http://www.lebanonfiles.com/files/images/19-09...\n",
       "freq             NaN  ...                                                  8\n",
       "mean    1.285414e+06  ...                                                NaN\n",
       "std     2.239324e+05  ...                                                NaN\n",
       "min     9.000010e+05  ...                                                NaN\n",
       "25%     9.993410e+05  ...                                                NaN\n",
       "50%     1.372597e+06  ...                                                NaN\n",
       "75%     1.461524e+06  ...                                                NaN\n",
       "max     1.560310e+06  ...                                                NaN\n",
       "\n",
       "[11 rows x 5 columns]"
      ]
     },
     "execution_count": 48,
     "metadata": {
      "tags": []
     },
     "output_type": "execute_result"
    }
   ],
   "source": [
    "X_df.describe(include='all')"
   ]
  },
  {
   "cell_type": "markdown",
   "metadata": {
    "colab_type": "text",
    "id": "lHVMT-FA-XZv"
   },
   "source": [
    "### Histogram of the classes"
   ]
  },
  {
   "cell_type": "code",
   "execution_count": 49,
   "metadata": {
    "colab": {
     "base_uri": "https://localhost:8080/",
     "height": 277
    },
    "colab_type": "code",
    "executionInfo": {
     "elapsed": 639,
     "status": "ok",
     "timestamp": 1580585137702,
     "user": {
      "displayName": "Hadi Abdine",
      "photoUrl": "",
      "userId": "09769333924622491433"
     },
     "user_tz": -60
    },
    "id": "ZmZLfjXW-Xae",
    "outputId": "ff3eaefc-4ceb-42d1-e6d5-69aa8f26ec1b"
   },
   "outputs": [
    {
     "data": {
      "image/png": "[encoded data removed]",
      "text/plain": [
       "<Figure size 432x288 with 1 Axes>"
      ]
     },
     "metadata": {
      "tags": []
     },
     "output_type": "display_data"
    }
   ],
   "source": [
    "def bins_labels(bins, **kwargs):\n",
    "    bin_w = (max(bins) - min(bins)) / (len(bins) - 1)\n",
    "    plt.xticks(np.arange(min(bins)+bin_w/2, max(bins), bin_w), bins, **kwargs)\n",
    "    plt.xlim(bins[0], bins[-1])\n",
    "\n",
    "bins = range(6)\n",
    "plt.hist(y_array, bins=bins)\n",
    "bins_labels(bins, fontsize=20)\n",
    "plt.show()"
   ]
  },
  {
   "cell_type": "markdown",
   "metadata": {
    "colab_type": "text",
    "id": "_Y9subK2-Xa3"
   },
   "source": [
    "#### As we can see the data is unbalanced so as scorer we use the F1 Score as scorer for our challenge with the parameter average set to 'weighted' to take in consideration the multiclass and the imbalancy of the data as described in the scikit learn documentation."
   ]
  },
  {
   "cell_type": "markdown",
   "metadata": {
    "colab_type": "text",
    "id": "Lg8ew7qP-Xa8"
   },
   "source": [
    "# Predictions"
   ]
  },
  {
   "cell_type": "markdown",
   "metadata": {
    "colab_type": "text",
    "id": "KnwDw0fj-XbB"
   },
   "source": [
    "1. Create a transformer that deals with missing values:"
   ]
  },
  {
   "cell_type": "code",
   "execution_count": 0,
   "metadata": {
    "colab": {},
    "colab_type": "code",
    "id": "zN9h5hoD-XbF"
   },
   "outputs": [],
   "source": [
    "# list of numerical columns\n",
    "num_cols = ['Id']"
   ]
  },
  {
   "cell_type": "code",
   "execution_count": 0,
   "metadata": {
    "colab": {},
    "colab_type": "code",
    "id": "hwpvyJzt-XbW"
   },
   "outputs": [],
   "source": [
    "numeric_transformer = Pipeline(steps=[\n",
    "    ('impute', SimpleImputer(strategy='median'))\n",
    "])"
   ]
  },
  {
   "cell_type": "markdown",
   "metadata": {
    "colab_type": "text",
    "id": "WSpeGQT0-Xbn"
   },
   "source": [
    "2. Create a transformer to split `Date` into separate year, month, day columns:"
   ]
  },
  {
   "cell_type": "code",
   "execution_count": 0,
   "metadata": {
    "colab": {},
    "colab_type": "code",
    "id": "ky7jyaFp-Xbs"
   },
   "outputs": [],
   "source": [
    "def process_date(X):\n",
    "    date = X.Date.apply(convert_to_date)\n",
    "    return np.c_[date.dt.year, date.dt.month, date.dt.day]\n",
    "date_transformer = FunctionTransformer(process_date, validate=False)"
   ]
  },
  {
   "cell_type": "markdown",
   "metadata": {
    "colab_type": "text",
    "id": "87i1B5BQ-Xb9"
   },
   "source": [
    "3. Process the text in `Title` and `Desc`. We must pay attention that these two columns aren't specified as type string. Therefore, the need to change the type."
   ]
  },
  {
   "cell_type": "markdown",
   "metadata": {
    "colab_type": "text",
    "id": "7W8AtIQ7-XcF"
   },
   "source": [
    "* ### Clean the \"Desc\" and \"Title\" column (remove \\t, weird symbols and stop words)\n",
    "* ### Convert the arabic date to datetime format"
   ]
  },
  {
   "cell_type": "code",
   "execution_count": 0,
   "metadata": {
    "colab": {},
    "colab_type": "code",
    "id": "QZa1gaBC-XcK"
   },
   "outputs": [],
   "source": [
    "stps_arabic = set(stopwords.words('arabic'))\n",
    "arabic_diacritics = re.compile(\"\"\"\n",
    "                             ّ    | # Tashdid\n",
    "                             َ    | # Fatha\n",
    "                             ً    | # Tanwin Fath\n",
    "                             ُ    | # Damma\n",
    "                             ٌ    | # Tanwin Damm\n",
    "                             ِ    | # Kasra\n",
    "                             ٍ    | # Tanwin Kasr\n",
    "                             ْ    | # Sukun\n",
    "                             ـ     # Tatwil/Kashida\n",
    "                         \"\"\", re.VERBOSE)\n",
    "\n",
    "def convert_to_date(x):\n",
    "    dicta =  {\"كانون الثاني\": \"january\" ,\"شباط\": \"february\", \"أيار\": \"may\",  \"نيسان\": \"April\",\n",
    "         \"آذار\": \"march\", \"حزيران\": \"june\", \"تموز\": \"july\", \"آب\": \"august\", \"أيلول\": \"september\",\n",
    "         \"تشرين الأول\": \"october\", \"تشرين الثاني\": \"november\", \"كانون الأول\": \"december\",\n",
    "         \"الاثنين\": \"monday\", \"الثلاثاء\": \"tuesday\", \"الأربعاء\": \"wednesday\", \"الخميس\": \"thursday\", \"الجمعة\": \"friday\",\n",
    "         \"السبت\": \"saturday\", \"الأحد\": \"sunday\", \"السبت\": \"saturday\"}\n",
    "    x_new = x\n",
    "    for arabic, english in dicta.items():\n",
    "        x_new = x_new.replace(arabic, english)\n",
    "    x_new = dparser.parse(x_new, fuzzy=True)\n",
    "    return x_new\n",
    "\n",
    "def clean_txt(sent):\n",
    "    \"\"\"\n",
    "        text: a string\n",
    "        \n",
    "        return: modified initial string\n",
    "    \"\"\"    \n",
    "    text = sent.strip()\n",
    "    text = re.sub('[\\n\\r\\t\\xa0]', ' ', text)\n",
    "    text = re.sub(arabic_diacritics, '', text)\n",
    "    text = ''.join(c for c in text if not ud.category(c).startswith('P') and not c.isdigit())\n",
    "    res = re.sub(' +', ' ', text)\n",
    "    return [w for w in text.split() if w not in stps_arabic]"
   ]
  },
  {
   "cell_type": "markdown",
   "metadata": {
    "colab_type": "text",
    "id": "2oeUTfL5-Xca"
   },
   "source": [
    "Also, for some news without any description, we will fill naivly the `Title` into the `Desc`."
   ]
  },
  {
   "cell_type": "code",
   "execution_count": 0,
   "metadata": {
    "colab": {},
    "colab_type": "code",
    "id": "5sZYBWXO-Xce"
   },
   "outputs": [],
   "source": [
    "def process_text(X):\n",
    "    X['Desc'] = X['Desc'].astype('str')\n",
    "    X['Title'] = X['Title'].astype('str')\n",
    "    \n",
    "    X.loc[X['Desc']=='', 'Desc'] = X['Title']\n",
    "    X['Desc'] = X['Desc'].apply(clean_txt)\n",
    "    return np.c_[X['Desc']]"
   ]
  },
  {
   "cell_type": "code",
   "execution_count": 0,
   "metadata": {
    "colab": {},
    "colab_type": "code",
    "id": "KzekvCYi-Xcq"
   },
   "outputs": [],
   "source": [
    "from keras.preprocessing.text import Tokenizer\n",
    "from keras.preprocessing.sequence import pad_sequences\n",
    "from keras.models import Sequential\n",
    "from keras.layers import Embedding, SpatialDropout1D, LSTM, Dense\n",
    "import keras.backend as K\n",
    "\n",
    "# The maximum number of words to be used. (Most frequent)\n",
    "vocab_size = 20000\n",
    "\n",
    "# The padding and truncating types used.\n",
    "trunc_type = 'post'\n",
    "padding_type = 'post'\n",
    "\n",
    "# The OOV token (Out Of Vocabulary) will be included within the dictionary\n",
    "oov_tok = '<OOV>'\n",
    "\n",
    "# Max number of words in each complaint.\n",
    "MAX_SEQUENCE_LENGTH = 200\n",
    "\n",
    "# This is fixed.\n",
    "EMBEDDING_DIM = 100"
   ]
  },
  {
   "cell_type": "code",
   "execution_count": 0,
   "metadata": {
    "colab": {},
    "colab_type": "code",
    "id": "aUDHBOra-Xc2"
   },
   "outputs": [],
   "source": [
    "from sklearn.base import BaseEstimator, TransformerMixin\n",
    "\n",
    "class FeatureSelector(BaseEstimator, TransformerMixin):\n",
    "    #Class Constructor \n",
    "    def __init__(self, feature_names, vocab_size, oov_tok, MAX_SEQUENCE_LENGTH, padding_type, trunc_type):\n",
    "        self.feature_names = feature_names\n",
    "        self.tokenizer = Tokenizer(num_words=vocab_size, oov_token=oov_tok)\n",
    "        self.max_length = MAX_SEQUENCE_LENGTH\n",
    "        self.padding = padding_type\n",
    "        self.truncating = trunc_type\n",
    "        \n",
    "    def fit(self, X, y=None):\n",
    "        X_1 = process_text(X.loc[:, self.feature_names])\n",
    "        self.tokenizer.fit_on_texts(X_1[:, 0])\n",
    "        self.word_index = self.tokenizer.word_index\n",
    "        return self\n",
    "    \n",
    "    def transform(self, X):\n",
    "        X_1 = process_text(X.loc[:, self.feature_names])\n",
    "        sequences = self.tokenizer.texts_to_sequences(X_1[:, 0])\n",
    "        X = pad_sequences(sequences, maxlen=self.max_length, padding=self.padding, truncating=self.truncating)\n",
    "        return X\n",
    "    \n",
    "    def fit_transform(self, X, y=None):\n",
    "        self.fit(X, y)\n",
    "        return self.transform(X)"
   ]
  },
  {
   "cell_type": "markdown",
   "metadata": {
    "colab_type": "text",
    "id": "D2iWRfr3-XdC"
   },
   "source": [
    "Finally the pipelines for text and non-text components are assembled. "
   ]
  },
  {
   "cell_type": "code",
   "execution_count": 0,
   "metadata": {
    "colab": {},
    "colab_type": "code",
    "id": "FrJnhUrQ-XdG"
   },
   "outputs": [],
   "source": [
    "num_col = ['Id']\n",
    "date_col = ['Date']\n",
    "text_cols = ['Desc', 'Title']\n",
    "drop_cols = ['Image']\n",
    "\n",
    "non_text_preprocessor = ColumnTransformer(\n",
    "    transformers=[\n",
    "        ('date', make_pipeline(date_transformer), date_col),\n",
    "        ('num', numeric_transformer, num_col),\n",
    "        ('drop cols', 'drop', drop_cols),\n",
    "        ])\n",
    "\n",
    "text_preprocessor = Pipeline(steps=[\n",
    "    ('text', FeatureSelector(text_cols, vocab_size, oov_tok, MAX_SEQUENCE_LENGTH, padding_type, trunc_type)),\n",
    "])"
   ]
  },
  {
   "cell_type": "code",
   "execution_count": 0,
   "metadata": {
    "colab": {},
    "colab_type": "code",
    "id": "IgOaEjXH-XdT"
   },
   "outputs": [],
   "source": [
    "# make sure it works\n",
    "X_train = text_preprocessor.fit_transform(X_df)\n",
    "X_extra = non_text_preprocessor.fit_transform(X_df)"
   ]
  },
  {
   "cell_type": "markdown",
   "metadata": {
    "colab_type": "text",
    "id": "ZEGL4ugP-Xdp"
   },
   "source": [
    "We will use a Keras model to test with `Desc`:"
   ]
  },
  {
   "cell_type": "code",
   "execution_count": 60,
   "metadata": {
    "colab": {
     "base_uri": "https://localhost:8080/",
     "height": 439
    },
    "colab_type": "code",
    "executionInfo": {
     "elapsed": 467,
     "status": "ok",
     "timestamp": 1580585402451,
     "user": {
      "displayName": "Hadi Abdine",
      "photoUrl": "",
      "userId": "09769333924622491433"
     },
     "user_tz": -60
    },
    "id": "D8KCJpxm-Xdu",
    "outputId": "14dd4784-646e-4cba-fb2e-4c0f218bf030"
   },
   "outputs": [
    {
     "data": {
      "text/plain": [
       "array([   35,     7,   173,   590,   139,     6,     3, 10920,  2147,\n",
       "        2238,  1552,   798,  3759, 16918,    64,   156,     1,  1552,\n",
       "        1073,  5638,  4688,  1673,  3819,  4387,  2859,   139,    24,\n",
       "         175,   566,  2668, 11612,   402,  4851,  1552,   798, 10822,\n",
       "         183,   308,     9,    56,     1,     7,   139,  4851,  1552,\n",
       "         798,   103,    58,    85,   615,  3042,  4572,     1,  4736,\n",
       "          27,  1552,   798,  1096,     1,   183,     1,   166, 19210,\n",
       "        3576,   141,   628,     1,    98,    27,   712,   646,  1623,\n",
       "         183,     1,     1,     1,  3350,   275,  4387,  2425,     1,\n",
       "         164,     1,   313,     1,   363,  6535,  1969,  1552,   798,\n",
       "           1,  5927,  8035,  6730,   139,     1,  3574,  8243,  5404,\n",
       "          57,   136,    90,     0,     0,     0,     0,     0,     0,\n",
       "           0,     0,     0,     0,     0,     0,     0,     0,     0,\n",
       "           0,     0,     0,     0,     0,     0,     0,     0,     0,\n",
       "           0,     0,     0,     0,     0,     0,     0,     0,     0,\n",
       "           0,     0,     0,     0,     0,     0,     0,     0,     0,\n",
       "           0,     0,     0,     0,     0,     0,     0,     0,     0,\n",
       "           0,     0,     0,     0,     0,     0,     0,     0,     0,\n",
       "           0,     0,     0,     0,     0,     0,     0,     0,     0,\n",
       "           0,     0,     0,     0,     0,     0,     0,     0,     0,\n",
       "           0,     0,     0,     0,     0,     0,     0,     0,     0,\n",
       "           0,     0,     0,     0,     0,     0,     0,     0,     0,\n",
       "           0,     0], dtype=int32)"
      ]
     },
     "execution_count": 60,
     "metadata": {
      "tags": []
     },
     "output_type": "execute_result"
    }
   ],
   "source": [
    "X_train[10]"
   ]
  },
  {
   "cell_type": "markdown",
   "metadata": {
    "colab_type": "text",
    "id": "OOj4VwRm-Xd-"
   },
   "source": [
    "### To visualize the format of the text used"
   ]
  },
  {
   "cell_type": "code",
   "execution_count": 61,
   "metadata": {
    "colab": {
     "base_uri": "https://localhost:8080/",
     "height": 294
    },
    "colab_type": "code",
    "executionInfo": {
     "elapsed": 512,
     "status": "ok",
     "timestamp": 1580585406137,
     "user": {
      "displayName": "Hadi Abdine",
      "photoUrl": "",
      "userId": "09769333924622491433"
     },
     "user_tz": -60
    },
    "id": "bdT3jblY-XeB",
    "outputId": "dafe4326-2a59-40fa-b289-d184991c27f8"
   },
   "outputs": [
    {
     "name": "stdout",
     "output_type": "stream",
     "text": [
      "قال الرئيس الأميركي دونالد ترامب اليوم ان إدارته تجري محادثات كوريا الجنوبية تزيد تمويلها بشكل كبير <OOV> كوريا الشمالية تصاعد التوترات شبه الجزيرة الكورية وكتب ترامب عبر تويتر مدى العقود العديدة الماضية دفعت كوريا الجنوبية القليل جدا المال العام الماضي <OOV> الرئيس ترامب دفعت كوريا الجنوبية مليون دولار وأضاف بدأت المحادثات لزيادة <OOV> للولايات المتحدة كوريا الجنوبية بلد <OOV> جدا <OOV> الآن بالتزام المساهمة الدفاع العسكري <OOV> الولايات المتحدة العلاقة البلدين جيدة جدا <OOV> <OOV> <OOV> أمني الحرب الكورية انتهت <OOV> وليس <OOV> سلام <OOV> ألف جندي أميركي كوريا الجنوبية <OOV> تهديدات بيونغ يانغ ترامب <OOV> مرارا تكاليف إبقاء القوات الأميركية البلد <PAD> <PAD> <PAD> <PAD> <PAD> <PAD> <PAD> <PAD> <PAD> <PAD> <PAD> <PAD> <PAD> <PAD> <PAD> <PAD> <PAD> <PAD> <PAD> <PAD> <PAD> <PAD> <PAD> <PAD> <PAD> <PAD> <PAD> <PAD> <PAD> <PAD> <PAD> <PAD> <PAD> <PAD> <PAD> <PAD> <PAD> <PAD> <PAD> <PAD> <PAD> <PAD> <PAD> <PAD> <PAD> <PAD> <PAD> <PAD> <PAD> <PAD> <PAD> <PAD> <PAD> <PAD> <PAD> <PAD> <PAD> <PAD> <PAD> <PAD> <PAD> <PAD> <PAD> <PAD> <PAD> <PAD> <PAD> <PAD> <PAD> <PAD> <PAD> <PAD> <PAD> <PAD> <PAD> <PAD> <PAD> <PAD> <PAD> <PAD> <PAD> <PAD> <PAD> <PAD> <PAD> <PAD> <PAD> <PAD> <PAD> <PAD> <PAD> <PAD> <PAD> <PAD> <PAD> <PAD> <PAD> <PAD>\n",
      "---\n",
      "\n",
      "\n",
      "\t قال الرئيس الأميركي دونالد ترامب، اليوم، ان إدارته تجري محادثات مع كوريا الجنوبية لكي تزيد تمويلها \"بشكل كبير\" لحمايتها من كوريا الشمالية، مع تصاعد التوترات في شبه الجزيرة الكورية.\n",
      "\n",
      "\tوكتب ترامب عبر \"تويتر\": \"مدى العقود العديدة الماضية دفعت كوريا الجنوبية القليل جدا من المال، ولكن العام الماضي، وبطلب من الرئيس ترامب، دفعت كوريا الجنوبية 990 مليون دولار\".\n",
      "\n",
      "\tوأضاف \"بدأت المحادثات لزيادة الدفعات للولايات المتحدة. كوريا الجنوبية بلد ثري جدا ويشعر الآن بالتزام المساهمة في الدفاع العسكري الذي توفره الولايات المتحدة. العلاقة بين البلدين جيدة جدا\".\n",
      "\n",
      "\tوالبلدان يرتبطان بتحالف أمني منذ الحرب الكورية (1950-1953) التي انتهت بهدنة وليس بمعاهدة سلام. وينتشر أكثر من 28 ألف جندي أميركي في كوريا الجنوبية لحمايتها من تهديدات بيونغ يانغ. \n",
      "\n",
      "\tإلا أن ترامب اشتكى مرارا من تكاليف إبقاء القوات الأميركية في هذا البلد.\n",
      "\n"
     ]
    }
   ],
   "source": [
    "id_to_word = {value:key for key,value in text_preprocessor['text'].word_index.items()}\n",
    "id_to_word[0] = '<PAD>'\n",
    "print(' '.join(id_to_word[id] for id in X_train[10]))\n",
    "print('---')\n",
    "print(X_df.loc[10]['Desc'])"
   ]
  },
  {
   "cell_type": "markdown",
   "metadata": {
    "colab_type": "text",
    "id": "_-6FOpvS-XeP"
   },
   "source": [
    "### Transform y_array to one hot encoding"
   ]
  },
  {
   "cell_type": "code",
   "execution_count": 0,
   "metadata": {
    "colab": {},
    "colab_type": "code",
    "id": "kOHJmlNf-XeT"
   },
   "outputs": [],
   "source": [
    "from sklearn import preprocessing\n",
    "enc = preprocessing.OneHotEncoder()\n",
    "enc.fit(y_array.reshape(-1, 1))\n",
    "Y_train = enc.transform(y_array.reshape(-1, 1)).toarray()"
   ]
  },
  {
   "cell_type": "code",
   "execution_count": 63,
   "metadata": {
    "colab": {
     "base_uri": "https://localhost:8080/",
     "height": 35
    },
    "colab_type": "code",
    "executionInfo": {
     "elapsed": 541,
     "status": "ok",
     "timestamp": 1580585409810,
     "user": {
      "displayName": "Hadi Abdine",
      "photoUrl": "",
      "userId": "09769333924622491433"
     },
     "user_tz": -60
    },
    "id": "8weSCicG9l2B",
    "outputId": "abaa9510-aceb-4d87-ccc0-9adb477f5842"
   },
   "outputs": [
    {
     "data": {
      "text/plain": [
       "array([1, 4, 4, ..., 4, 1, 3])"
      ]
     },
     "execution_count": 63,
     "metadata": {
      "tags": []
     },
     "output_type": "execute_result"
    }
   ],
   "source": [
    "y_array"
   ]
  },
  {
   "cell_type": "code",
   "execution_count": 64,
   "metadata": {
    "colab": {
     "base_uri": "https://localhost:8080/",
     "height": 146
    },
    "colab_type": "code",
    "executionInfo": {
     "elapsed": 477,
     "status": "ok",
     "timestamp": 1580585412129,
     "user": {
      "displayName": "Hadi Abdine",
      "photoUrl": "",
      "userId": "09769333924622491433"
     },
     "user_tz": -60
    },
    "id": "Z2NpMvd5-Xef",
    "outputId": "f5db48e3-68c8-416c-fbd6-6c7bc0183146"
   },
   "outputs": [
    {
     "data": {
      "text/plain": [
       "array([[0., 1., 0., 0., 0.],\n",
       "       [0., 0., 0., 0., 1.],\n",
       "       [0., 0., 0., 0., 1.],\n",
       "       ...,\n",
       "       [0., 0., 0., 0., 1.],\n",
       "       [0., 1., 0., 0., 0.],\n",
       "       [0., 0., 0., 1., 0.]])"
      ]
     },
     "execution_count": 64,
     "metadata": {
      "tags": []
     },
     "output_type": "execute_result"
    }
   ],
   "source": [
    "Y_train"
   ]
  },
  {
   "cell_type": "markdown",
   "metadata": {
    "colab_type": "text",
    "id": "cBJ5rY8Q-Xeq"
   },
   "source": [
    "### Implementing the f1_score function (not integrated in Keras)"
   ]
  },
  {
   "cell_type": "code",
   "execution_count": 0,
   "metadata": {
    "colab": {},
    "colab_type": "code",
    "id": "gfpgueMc-Xe4"
   },
   "outputs": [],
   "source": [
    "def get_f1(y_true, y_pred):\n",
    "    \n",
    "    y_true = K.argmax(y_true, -1)\n",
    "    y_pred = K.argmax(y_pred, -1)\n",
    "    \n",
    "    prec_num = 0\n",
    "    prec_den = 0\n",
    "    recall_num = 0\n",
    "    recall_den = 0\n",
    "    \n",
    "    equal = K.equal(y_true, y_pred)\n",
    "    not_equal = K.not_equal(y_true, y_pred)\n",
    "    \n",
    "    for i in range(5):\n",
    "        aux = K.sum(K.cast(K.all(K.stack([equal, K.equal(y_true, i)], axis=0), axis=0), 'int32'))\n",
    "        prec_num += aux\n",
    "        prec_den += aux + K.sum(K.cast(K.all(K.stack([not_equal, K.equal(y_pred, i)], axis=0), axis=0), 'int32'))\n",
    "        recall_num += aux\n",
    "        recall_den += aux + K.sum(K.cast(K.all(K.stack([not_equal, K.equal(y_true, i)], axis=0), axis=0), 'int32'))\n",
    "        \n",
    "    prec_num = K.cast(prec_num, 'float')\n",
    "    prec_den = K.cast(prec_den, 'float')\n",
    "    recall_num = K.cast(recall_num, 'float')\n",
    "    recall_den = K.cast(recall_den, 'float')\n",
    "    \n",
    "    precision = prec_num / prec_den\n",
    "    recall = recall_num / recall_den\n",
    "    f1_val = 2*(precision * recall)/(precision + recall)\n",
    "    return f1_val"
   ]
  },
  {
   "cell_type": "markdown",
   "metadata": {
    "colab_type": "text",
    "id": "I1hkDhLY-XfF"
   },
   "source": [
    "### Implementing the keras model to use"
   ]
  },
  {
   "cell_type": "code",
   "execution_count": 0,
   "metadata": {
    "colab": {},
    "colab_type": "code",
    "id": "K2NG1E91-XfJ"
   },
   "outputs": [],
   "source": [
    "K.clear_session()"
   ]
  },
  {
   "cell_type": "code",
   "execution_count": 0,
   "metadata": {
    "colab": {},
    "colab_type": "code",
    "id": "wxWaOp5c-XfV"
   },
   "outputs": [],
   "source": [
    "def create_model():\n",
    "    # create model\n",
    "    model = Sequential()\n",
    "    model.add(Embedding(vocab_size, EMBEDDING_DIM, input_length=MAX_SEQUENCE_LENGTH))\n",
    "    model.add(SpatialDropout1D(0.2))\n",
    "    model.add(LSTM(100, dropout=0.2, recurrent_dropout=0.2))\n",
    "    model.add(Dense(5, activation='softmax'))\n",
    "    # Compile model\n",
    "    model.compile(loss='categorical_crossentropy', optimizer='adam', metrics=['accuracy'])\n",
    "    return model\n",
    "\n",
    "epochs = 5\n",
    "batch_size = 64"
   ]
  },
  {
   "cell_type": "code",
   "execution_count": 0,
   "metadata": {
    "colab": {},
    "colab_type": "code",
    "id": "_brvaNHW-Xfg"
   },
   "outputs": [],
   "source": [
    "from keras.wrappers.scikit_learn import KerasClassifier\n",
    "model = KerasClassifier(build_fn=create_model, epochs=epochs, batch_size=batch_size, verbose=0)"
   ]
  },
  {
   "cell_type": "markdown",
   "metadata": {
    "colab_type": "text",
    "id": "2PBk60Tc-Xfq"
   },
   "source": [
    "### The summary of the used model. As we ca notice, this model has about 2 millions paramter to train. Thus, it needs a lot of time."
   ]
  },
  {
   "cell_type": "code",
   "execution_count": 69,
   "metadata": {
    "colab": {
     "base_uri": "https://localhost:8080/",
     "height": 311
    },
    "colab_type": "code",
    "executionInfo": {
     "elapsed": 866,
     "status": "ok",
     "timestamp": 1580585439550,
     "user": {
      "displayName": "Hadi Abdine",
      "photoUrl": "",
      "userId": "09769333924622491433"
     },
     "user_tz": -60
    },
    "id": "z7feMvVO-Xft",
    "outputId": "8eba7675-d2fd-46eb-8485-93a0b6d040c1"
   },
   "outputs": [
    {
     "name": "stdout",
     "output_type": "stream",
     "text": [
      "Model: \"sequential_1\"\n",
      "_________________________________________________________________\n",
      "Layer (type)                 Output Shape              Param #   \n",
      "=================================================================\n",
      "embedding_1 (Embedding)      (None, 200, 100)          2000000   \n",
      "_________________________________________________________________\n",
      "spatial_dropout1d_1 (Spatial (None, 200, 100)          0         \n",
      "_________________________________________________________________\n",
      "lstm_1 (LSTM)                (None, 100)               80400     \n",
      "_________________________________________________________________\n",
      "dense_1 (Dense)              (None, 5)                 505       \n",
      "=================================================================\n",
      "Total params: 2,080,905\n",
      "Trainable params: 2,080,905\n",
      "Non-trainable params: 0\n",
      "_________________________________________________________________\n"
     ]
    }
   ],
   "source": [
    "create_model().summary()"
   ]
  },
  {
   "cell_type": "markdown",
   "metadata": {
    "colab_type": "text",
    "id": "qQvw9wn3-XgC"
   },
   "source": [
    "### Cross validation and training of the model"
   ]
  },
  {
   "cell_type": "code",
   "execution_count": 0,
   "metadata": {
    "colab": {},
    "colab_type": "code",
    "id": "HD8vgIWh-XgW"
   },
   "outputs": [],
   "source": [
    "from sklearn.model_selection import StratifiedKFold\n",
    "from sklearn.model_selection import cross_val_score\n",
    "\n",
    "clf = Pipeline(steps=[\n",
    "    ('preprocessing', text_preprocessor),\n",
    "    ('classifier', model),\n",
    "    ])\n",
    "\n",
    "cv = StratifiedKFold(n_splits=2, shuffle=True, random_state=42)"
   ]
  },
  {
   "cell_type": "code",
   "execution_count": 72,
   "metadata": {
    "colab": {
     "base_uri": "https://localhost:8080/",
     "height": 35
    },
    "colab_type": "code",
    "executionInfo": {
     "elapsed": 4380000,
     "status": "ok",
     "timestamp": 1580592164365,
     "user": {
      "displayName": "Hadi Abdine",
      "photoUrl": "",
      "userId": "09769333924622491433"
     },
     "user_tz": -60
    },
    "id": "W0lx0iFX-Xgr",
    "outputId": "13c11073-3edd-4f27-a3c1-6c222b2cbcef"
   },
   "outputs": [
    {
     "name": "stdout",
     "output_type": "stream",
     "text": [
      "mean: 9.331061e-01 (+/- 5.956050e-05)\n"
     ]
    }
   ],
   "source": [
    "from sklearn.metrics import f1_score\n",
    "\n",
    "cross_scores = []\n",
    "for train, test in cv.split(X_df, np.argmax(Y_train, -1)):\n",
    "    clf.fit(X_df.loc[train], Y_train[train])\n",
    "    y_pred = clf.predict(X_df.loc[test])\n",
    "    cross_scores.append(f1_score(np.argmax(Y_train[test], -1), y_pred, average='weighted'))\n",
    "\n",
    "cross_scores = np.array(cross_scores)\n",
    "print(\"mean: %e (+/- %e)\" % (cross_scores.mean(), cross_scores.std()))"
   ]
  },
  {
   "cell_type": "markdown",
   "metadata": {
    "colab_type": "text",
    "id": "IW6mAI_ord7e"
   },
   "source": [
    "### Finding the F1-Score of the test data-set"
   ]
  },
  {
   "cell_type": "code",
   "execution_count": 0,
   "metadata": {
    "colab": {},
    "colab_type": "code",
    "id": "8tlqFFRk-Xg8"
   },
   "outputs": [],
   "source": [
    "from problem import get_test_data\n",
    "X_test, y_test = get_test_data()\n",
    "\n",
    "X_test = text_preprocessor.fit_transform(X_test)"
   ]
  },
  {
   "cell_type": "code",
   "execution_count": 78,
   "metadata": {
    "colab": {
     "base_uri": "https://localhost:8080/",
     "height": 35
    },
    "colab_type": "code",
    "executionInfo": {
     "elapsed": 50738,
     "status": "ok",
     "timestamp": 1580592679203,
     "user": {
      "displayName": "Hadi Abdine",
      "photoUrl": "",
      "userId": "09769333924622491433"
     },
     "user_tz": -60
    },
    "id": "OeJmGsOK-XiI",
    "outputId": "72fb3c92-c165-488b-b294-7b3c4024eba6"
   },
   "outputs": [
    {
     "data": {
      "text/plain": [
       "0.521275562697801"
      ]
     },
     "execution_count": 78,
     "metadata": {
      "tags": []
     },
     "output_type": "execute_result"
    }
   ],
   "source": [
    "f1_score(y_test, model.predict(X_test), average='weighted')"
   ]
  },
  {
   "cell_type": "markdown",
   "metadata": {
    "colab_type": "text",
    "id": "N0VkhR22ro0c"
   },
   "source": [
    "### Ramp test"
   ]
  },
  {
   "cell_type": "code",
   "execution_count": 79,
   "metadata": {
    "colab": {
     "base_uri": "https://localhost:8080/",
     "height": 1000
    },
    "colab_type": "code",
    "executionInfo": {
     "elapsed": 5697060,
     "status": "ok",
     "timestamp": 1580599303944,
     "user": {
      "displayName": "Hadi Abdine",
      "photoUrl": "",
      "userId": "09769333924622491433"
     },
     "user_tz": -60
    },
    "id": "bT61bF_s-XlI",
    "outputId": "824ff381-f938-434a-98a9-3d8494b7b74a"
   },
   "outputs": [
    {
     "name": "stdout",
     "output_type": "stream",
     "text": [
      "\u001b[38;5;178m\u001b[1mTesting Arabic News Category prediction\u001b[0m\n",
      "\u001b[38;5;178m\u001b[1mReading train and test files from ./data ...\u001b[0m\n",
      "\u001b[38;5;178m\u001b[1mReading cv ...\u001b[0m\n",
      "\u001b[38;5;178m\u001b[1mTraining submissions/starting_kit ...\u001b[0m\n",
      "\u001b[38;5;178m\u001b[1mCV fold 0\u001b[0m\n",
      "Using TensorFlow backend.\n",
      "WARNING:tensorflow:From /usr/local/lib/python3.6/dist-packages/keras/backend/tensorflow_backend.py:66: The name tf.get_default_graph is deprecated. Please use tf.compat.v1.get_default_graph instead.\n",
      "\n",
      "WARNING:tensorflow:From /usr/local/lib/python3.6/dist-packages/keras/backend/tensorflow_backend.py:107: The name tf.reset_default_graph is deprecated. Please use tf.compat.v1.reset_default_graph instead.\n",
      "\n",
      "WARNING:tensorflow:From /usr/local/lib/python3.6/dist-packages/keras/backend/tensorflow_backend.py:111: The name tf.placeholder_with_default is deprecated. Please use tf.compat.v1.placeholder_with_default instead.\n",
      "\n",
      "WARNING:tensorflow:From /usr/local/lib/python3.6/dist-packages/keras/backend/tensorflow_backend.py:541: The name tf.placeholder is deprecated. Please use tf.compat.v1.placeholder instead.\n",
      "\n",
      "WARNING:tensorflow:From /usr/local/lib/python3.6/dist-packages/keras/backend/tensorflow_backend.py:4432: The name tf.random_uniform is deprecated. Please use tf.random.uniform instead.\n",
      "\n",
      "WARNING:tensorflow:From /usr/local/lib/python3.6/dist-packages/keras/backend/tensorflow_backend.py:3733: calling dropout (from tensorflow.python.ops.nn_ops) with keep_prob is deprecated and will be removed in a future version.\n",
      "Instructions for updating:\n",
      "Please use `rate` instead of `keep_prob`. Rate should be set to `rate = 1 - keep_prob`.\n",
      "WARNING:tensorflow:From /usr/local/lib/python3.6/dist-packages/keras/optimizers.py:793: The name tf.train.Optimizer is deprecated. Please use tf.compat.v1.train.Optimizer instead.\n",
      "\n",
      "WARNING:tensorflow:From /usr/local/lib/python3.6/dist-packages/keras/backend/tensorflow_backend.py:3576: The name tf.log is deprecated. Please use tf.math.log instead.\n",
      "\n",
      "WARNING:tensorflow:From /usr/local/lib/python3.6/dist-packages/tensorflow_core/python/ops/math_grad.py:1424: where (from tensorflow.python.ops.array_ops) is deprecated and will be removed in a future version.\n",
      "Instructions for updating:\n",
      "Use tf.where in 2.0, which has the same broadcast rule as np.where\n",
      "WARNING:tensorflow:From /usr/local/lib/python3.6/dist-packages/keras/backend/tensorflow_backend.py:1033: The name tf.assign_add is deprecated. Please use tf.compat.v1.assign_add instead.\n",
      "\n",
      "WARNING:tensorflow:From /usr/local/lib/python3.6/dist-packages/keras/backend/tensorflow_backend.py:1020: The name tf.assign is deprecated. Please use tf.compat.v1.assign instead.\n",
      "\n",
      "WARNING:tensorflow:From /usr/local/lib/python3.6/dist-packages/keras/backend/tensorflow_backend.py:3005: The name tf.Session is deprecated. Please use tf.compat.v1.Session instead.\n",
      "\n",
      "WARNING:tensorflow:From /usr/local/lib/python3.6/dist-packages/keras/backend/tensorflow_backend.py:190: The name tf.get_default_session is deprecated. Please use tf.compat.v1.get_default_session instead.\n",
      "\n",
      "WARNING:tensorflow:From /usr/local/lib/python3.6/dist-packages/keras/backend/tensorflow_backend.py:197: The name tf.ConfigProto is deprecated. Please use tf.compat.v1.ConfigProto instead.\n",
      "\n",
      "WARNING:tensorflow:From /usr/local/lib/python3.6/dist-packages/keras/backend/tensorflow_backend.py:207: The name tf.global_variables is deprecated. Please use tf.compat.v1.global_variables instead.\n",
      "\n",
      "WARNING:tensorflow:From /usr/local/lib/python3.6/dist-packages/keras/backend/tensorflow_backend.py:216: The name tf.is_variable_initialized is deprecated. Please use tf.compat.v1.is_variable_initialized instead.\n",
      "\n",
      "WARNING:tensorflow:From /usr/local/lib/python3.6/dist-packages/keras/backend/tensorflow_backend.py:223: The name tf.variables_initializer is deprecated. Please use tf.compat.v1.variables_initializer instead.\n",
      "\n",
      "\t\u001b[38;5;178m\u001b[1mscore  f1 score         time\u001b[0m\n",
      "\t\u001b[38;5;10m\u001b[1mtrain\u001b[0m     \u001b[38;5;10m\u001b[1m0.528\u001b[0m  \u001b[38;5;150m3158.511521\u001b[0m\n",
      "\t\u001b[38;5;12m\u001b[1mvalid\u001b[0m     \u001b[38;5;12m\u001b[1m0.527\u001b[0m   \u001b[38;5;105m442.220310\u001b[0m\n",
      "\t\u001b[38;5;1m\u001b[1mtest\u001b[0m      \u001b[38;5;1m\u001b[1m0.486\u001b[0m   \u001b[38;5;218m145.573001\u001b[0m\n",
      "\u001b[38;5;178m\u001b[1mCV fold 1\u001b[0m\n",
      "\t\u001b[38;5;178m\u001b[1mscore  f1 score         time\u001b[0m\n",
      "\t\u001b[38;5;10m\u001b[1mtrain\u001b[0m     \u001b[38;5;10m\u001b[1m0.471\u001b[0m  \u001b[38;5;150m1461.698390\u001b[0m\n",
      "\t\u001b[38;5;12m\u001b[1mvalid\u001b[0m     \u001b[38;5;12m\u001b[1m0.469\u001b[0m   \u001b[38;5;105m348.001404\u001b[0m\n",
      "\t\u001b[38;5;1m\u001b[1mtest\u001b[0m      \u001b[38;5;1m\u001b[1m0.464\u001b[0m   \u001b[38;5;218m116.124759\u001b[0m\n",
      "\u001b[38;5;178m\u001b[1m----------------------------\u001b[0m\n",
      "\u001b[38;5;178m\u001b[1mMean CV scores\u001b[0m\n",
      "\u001b[38;5;178m\u001b[1m----------------------------\u001b[0m\n",
      "\t\u001b[38;5;178m\u001b[1mscore        f1 score             time\u001b[0m\n",
      "\t\u001b[38;5;10m\u001b[1mtrain\u001b[0m  \u001b[38;5;10m\u001b[1m0.499\u001b[0m \u001b[38;5;150m\u001b[38;5;150m±\u001b[0m\u001b[0m \u001b[38;5;150m0.0286\u001b[0m  \u001b[38;5;150m2310.1\u001b[0m \u001b[38;5;150m\u001b[38;5;150m±\u001b[0m\u001b[0m \u001b[38;5;150m848.41\u001b[0m\n",
      "\t\u001b[38;5;12m\u001b[1mvalid\u001b[0m  \u001b[38;5;12m\u001b[1m0.498\u001b[0m \u001b[38;5;105m\u001b[38;5;105m±\u001b[0m\u001b[0m \u001b[38;5;105m0.0292\u001b[0m    \u001b[38;5;105m395.1\u001b[0m \u001b[38;5;105m\u001b[38;5;105m±\u001b[0m\u001b[0m \u001b[38;5;105m47.11\u001b[0m\n",
      "\t\u001b[38;5;1m\u001b[1mtest\u001b[0m   \u001b[38;5;1m\u001b[1m0.475\u001b[0m \u001b[38;5;218m\u001b[38;5;218m±\u001b[0m\u001b[0m \u001b[38;5;218m0.0111\u001b[0m    \u001b[38;5;218m130.8\u001b[0m \u001b[38;5;218m\u001b[38;5;218m±\u001b[0m\u001b[0m \u001b[38;5;218m14.72\u001b[0m\n",
      "\u001b[38;5;178m\u001b[1m----------------------------\u001b[0m\n",
      "\u001b[38;5;178m\u001b[1mBagged scores\u001b[0m\n",
      "\u001b[38;5;178m\u001b[1m----------------------------\u001b[0m\n",
      "\t\u001b[38;5;178m\u001b[1mscore  f1 score\u001b[0m\n",
      "\t\u001b[38;5;12m\u001b[1mvalid\u001b[0m     \u001b[38;5;12m\u001b[1m0.502\u001b[0m\n",
      "\t\u001b[38;5;1m\u001b[1mtest\u001b[0m      \u001b[38;5;1m\u001b[1m0.482\u001b[0m\n"
     ]
    }
   ],
   "source": [
    "!ramp_test_submission"
   ]
  }
 ],
 "metadata": {
  "colab": {
   "collapsed_sections": [
    "_Y9subK2-Xa3"
   ],
   "name": "ArabicNewsCategoryPrediction_starting_kit.ipynb",
   "provenance": []
  },
  "kernelspec": {
   "display_name": "Python 3",
   "language": "python",
   "name": "python3"
  },
  "language_info": {
   "codemirror_mode": {
    "name": "ipython",
    "version": 3
   },
   "file_extension": ".py",
   "mimetype": "text/x-python",
   "name": "python",
   "nbconvert_exporter": "python",
   "pygments_lexer": "ipython3",
   "version": "3.7.6"
  }
 },
 "nbformat": 4,
 "nbformat_minor": 1
}
