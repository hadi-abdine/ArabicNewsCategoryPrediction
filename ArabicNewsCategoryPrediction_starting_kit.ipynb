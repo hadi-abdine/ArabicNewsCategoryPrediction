{
 "cells": [
  {
   "cell_type": "markdown",
   "metadata": {},
   "source": [
    "<div style=\"text-align: left;\">\n",
    "<table style=\"width:100%; background-color:transparent;\">\n",
    "  <tr style=\"background-color:transparent;\">\n",
    "    <td style=\"background-color:transparent;\">\n",
    "<img border=\"0\" src=\"https://www.polytechnique.edu/sites/all/institutionnel/institutpolytechniqueparis_logohorizontal.png\" width=\"90%\"> </td>\n",
    "     <td style=\"background-color:transparent;\">\n",
    "<img border=\"0\" src=\"\" width=\"60%\"> </td>\n",
    "  </tr>\n",
    "</table> \n",
    "</div>\n",
    "<center><h1>Arabic News Category Prediction Challenge (ANCP)</h1></center>\n",
    "<br/>\n",
    "<center>Ahmad CHAMMA, Hadi ABDINE, Youssef FARHAT</center>"
   ]
  },
  {
   "cell_type": "code",
   "execution_count": 1,
   "metadata": {},
   "outputs": [],
   "source": [
    "import pandas as pd\n",
    "import numpy as np\n",
    "from matplotlib import pyplot as plt\n",
    "import seaborn as sns\n",
    "import re\n",
    "import datetime\n",
    "import dateutil.parser as dparser\n",
    "sns.set()\n",
    "%matplotlib inline"
   ]
  },
  {
   "cell_type": "code",
   "execution_count": 29,
   "metadata": {},
   "outputs": [],
   "source": [
    "data = pd.read_csv('data/data.csv')"
   ]
  },
  {
   "cell_type": "code",
   "execution_count": 30,
   "metadata": {},
   "outputs": [
    {
     "data": {
      "text/html": [
       "<div>\n",
       "<style scoped>\n",
       "    .dataframe tbody tr th:only-of-type {\n",
       "        vertical-align: middle;\n",
       "    }\n",
       "\n",
       "    .dataframe tbody tr th {\n",
       "        vertical-align: top;\n",
       "    }\n",
       "\n",
       "    .dataframe thead th {\n",
       "        text-align: right;\n",
       "    }\n",
       "</style>\n",
       "<table border=\"1\" class=\"dataframe\">\n",
       "  <thead>\n",
       "    <tr style=\"text-align: right;\">\n",
       "      <th></th>\n",
       "      <th>Id</th>\n",
       "      <th>Title</th>\n",
       "      <th>Date</th>\n",
       "      <th>Desc</th>\n",
       "      <th>Image</th>\n",
       "      <th>Type</th>\n",
       "    </tr>\n",
       "  </thead>\n",
       "  <tbody>\n",
       "    <tr>\n",
       "      <th>0</th>\n",
       "      <td>1350004</td>\n",
       "      <td>\"التحكم المروري\": جريحان نتيجة تصادم بين 4 سيا...</td>\n",
       "      <td>الأحد 15 تموز 2018 - 21:20</td>\n",
       "      <td>\\n</td>\n",
       "      <td>NaN</td>\n",
       "      <td>أخبار الساعة</td>\n",
       "    </tr>\n",
       "    <tr>\n",
       "      <th>1</th>\n",
       "      <td>1350008</td>\n",
       "      <td>الحواط: تحالفت مع القوات ووضعت يدي بيد جعجع ان...</td>\n",
       "      <td>الأحد 15 تموز 2018 - 21:28</td>\n",
       "      <td>\\n</td>\n",
       "      <td>NaN</td>\n",
       "      <td>أخبار الساعة</td>\n",
       "    </tr>\n",
       "    <tr>\n",
       "      <th>2</th>\n",
       "      <td>1350002</td>\n",
       "      <td>وفاة طفل غرقا في عين الزرقاء</td>\n",
       "      <td>الأحد 15 تموز 2018 - 20:51</td>\n",
       "      <td>\\n\\n\\tتوفي الطفل علي حسين العسكر من بلدة قب ال...</td>\n",
       "      <td>http://www.lebanonfiles.com/files/images/15-07...</td>\n",
       "      <td>أخبار محليّة</td>\n",
       "    </tr>\n",
       "    <tr>\n",
       "      <th>3</th>\n",
       "      <td>1350000</td>\n",
       "      <td>عدوان: لا شيء يمنع من تقاطع في العمل الحكومي و...</td>\n",
       "      <td>الأحد 15 تموز 2018 - 20:41</td>\n",
       "      <td>\\n\\n\\tأكد نائب رئيس حزب \"القوات اللبنانية\" عضو...</td>\n",
       "      <td>http://www.lebanonfiles.com/files/images/15-07...</td>\n",
       "      <td>أخبار محليّة</td>\n",
       "    </tr>\n",
       "    <tr>\n",
       "      <th>4</th>\n",
       "      <td>1350006</td>\n",
       "      <td>من هو أفضل لاعب في مونديال روسيا؟</td>\n",
       "      <td>الأحد 15 تموز 2018 - 21:26</td>\n",
       "      <td>\\n\\n\\tتوج كابتن منتخب كرواتيا لوكا مودريتش بجا...</td>\n",
       "      <td>http://www.lebanonfiles.com/files/images/15-07...</td>\n",
       "      <td>أخبار رياضية</td>\n",
       "    </tr>\n",
       "  </tbody>\n",
       "</table>\n",
       "</div>"
      ],
      "text/plain": [
       "        Id                                              Title  \\\n",
       "0  1350004  \"التحكم المروري\": جريحان نتيجة تصادم بين 4 سيا...   \n",
       "1  1350008  الحواط: تحالفت مع القوات ووضعت يدي بيد جعجع ان...   \n",
       "2  1350002                       وفاة طفل غرقا في عين الزرقاء   \n",
       "3  1350000  عدوان: لا شيء يمنع من تقاطع في العمل الحكومي و...   \n",
       "4  1350006                  من هو أفضل لاعب في مونديال روسيا؟   \n",
       "\n",
       "                         Date  \\\n",
       "0  الأحد 15 تموز 2018 - 21:20   \n",
       "1  الأحد 15 تموز 2018 - 21:28   \n",
       "2  الأحد 15 تموز 2018 - 20:51   \n",
       "3  الأحد 15 تموز 2018 - 20:41   \n",
       "4  الأحد 15 تموز 2018 - 21:26   \n",
       "\n",
       "                                                Desc  \\\n",
       "0                                                 \\n   \n",
       "1                                                 \\n   \n",
       "2  \\n\\n\\tتوفي الطفل علي حسين العسكر من بلدة قب ال...   \n",
       "3  \\n\\n\\tأكد نائب رئيس حزب \"القوات اللبنانية\" عضو...   \n",
       "4  \\n\\n\\tتوج كابتن منتخب كرواتيا لوكا مودريتش بجا...   \n",
       "\n",
       "                                               Image          Type  \n",
       "0                                                NaN  أخبار الساعة  \n",
       "1                                                NaN  أخبار الساعة  \n",
       "2  http://www.lebanonfiles.com/files/images/15-07...  أخبار محليّة  \n",
       "3  http://www.lebanonfiles.com/files/images/15-07...  أخبار محليّة  \n",
       "4  http://www.lebanonfiles.com/files/images/15-07...  أخبار رياضية  "
      ]
     },
     "execution_count": 30,
     "metadata": {},
     "output_type": "execute_result"
    }
   ],
   "source": [
    "data.head(5)"
   ]
  },
  {
   "cell_type": "code",
   "execution_count": 49,
   "metadata": {},
   "outputs": [],
   "source": [
    "useful_categories = ['أخبار محليّة', 'أخبار فنية', 'أخبار اقتصادية ومالية', 'أخبار رياضية', 'أخبار إقليمية ودولية']\n",
    "useful = data[data.Type.isin(useful_categories)]"
   ]
  },
  {
   "cell_type": "code",
   "execution_count": 46,
   "metadata": {},
   "outputs": [
    {
     "data": {
      "text/html": [
       "<div>\n",
       "<style scoped>\n",
       "    .dataframe tbody tr th:only-of-type {\n",
       "        vertical-align: middle;\n",
       "    }\n",
       "\n",
       "    .dataframe tbody tr th {\n",
       "        vertical-align: top;\n",
       "    }\n",
       "\n",
       "    .dataframe thead th {\n",
       "        text-align: right;\n",
       "    }\n",
       "</style>\n",
       "<table border=\"1\" class=\"dataframe\">\n",
       "  <thead>\n",
       "    <tr style=\"text-align: right;\">\n",
       "      <th></th>\n",
       "      <th>Id</th>\n",
       "      <th>Title</th>\n",
       "      <th>Date</th>\n",
       "      <th>Desc</th>\n",
       "      <th>Image</th>\n",
       "      <th>Type</th>\n",
       "    </tr>\n",
       "  </thead>\n",
       "  <tbody>\n",
       "    <tr>\n",
       "      <th>2</th>\n",
       "      <td>1350002</td>\n",
       "      <td>وفاة طفل غرقا في عين الزرقاء</td>\n",
       "      <td>الأحد 15 تموز 2018 - 20:51</td>\n",
       "      <td>\\n\\n\\tتوفي الطفل علي حسين العسكر من بلدة قب ال...</td>\n",
       "      <td>http://www.lebanonfiles.com/files/images/15-07...</td>\n",
       "      <td>أخبار محليّة</td>\n",
       "    </tr>\n",
       "    <tr>\n",
       "      <th>3</th>\n",
       "      <td>1350000</td>\n",
       "      <td>عدوان: لا شيء يمنع من تقاطع في العمل الحكومي و...</td>\n",
       "      <td>الأحد 15 تموز 2018 - 20:41</td>\n",
       "      <td>\\n\\n\\tأكد نائب رئيس حزب \"القوات اللبنانية\" عضو...</td>\n",
       "      <td>http://www.lebanonfiles.com/files/images/15-07...</td>\n",
       "      <td>أخبار محليّة</td>\n",
       "    </tr>\n",
       "    <tr>\n",
       "      <th>4</th>\n",
       "      <td>1350006</td>\n",
       "      <td>من هو أفضل لاعب في مونديال روسيا؟</td>\n",
       "      <td>الأحد 15 تموز 2018 - 21:26</td>\n",
       "      <td>\\n\\n\\tتوج كابتن منتخب كرواتيا لوكا مودريتش بجا...</td>\n",
       "      <td>http://www.lebanonfiles.com/files/images/15-07...</td>\n",
       "      <td>أخبار رياضية</td>\n",
       "    </tr>\n",
       "    <tr>\n",
       "      <th>9</th>\n",
       "      <td>1350009</td>\n",
       "      <td>الحواط: تحالفت مع القوات ووضعت يدي بيد جعجع ان...</td>\n",
       "      <td>الأحد 15 تموز 2018 - 21:29</td>\n",
       "      <td>\\n\\n\\t أكد عضو كتلة \"الجمهورية القوية\" النائب ...</td>\n",
       "      <td>http://www.lebanonfiles.com/files/images/15-07...</td>\n",
       "      <td>أخبار محليّة</td>\n",
       "    </tr>\n",
       "    <tr>\n",
       "      <th>14</th>\n",
       "      <td>1350014</td>\n",
       "      <td>جريح في إشكال تطور إلى إطلاق نار في مخيم عين ا...</td>\n",
       "      <td>الأحد 15 تموز 2018 - 22:02</td>\n",
       "      <td>\\n\\n\\tأفادت  الوكالة الوطنية للاعلام عن إصابة ...</td>\n",
       "      <td>http://www.lebanonfiles.com/files/images/15-07...</td>\n",
       "      <td>أخبار محليّة</td>\n",
       "    </tr>\n",
       "  </tbody>\n",
       "</table>\n",
       "</div>"
      ],
      "text/plain": [
       "         Id                                              Title  \\\n",
       "2   1350002                       وفاة طفل غرقا في عين الزرقاء   \n",
       "3   1350000  عدوان: لا شيء يمنع من تقاطع في العمل الحكومي و...   \n",
       "4   1350006                  من هو أفضل لاعب في مونديال روسيا؟   \n",
       "9   1350009  الحواط: تحالفت مع القوات ووضعت يدي بيد جعجع ان...   \n",
       "14  1350014  جريح في إشكال تطور إلى إطلاق نار في مخيم عين ا...   \n",
       "\n",
       "                          Date  \\\n",
       "2   الأحد 15 تموز 2018 - 20:51   \n",
       "3   الأحد 15 تموز 2018 - 20:41   \n",
       "4   الأحد 15 تموز 2018 - 21:26   \n",
       "9   الأحد 15 تموز 2018 - 21:29   \n",
       "14  الأحد 15 تموز 2018 - 22:02   \n",
       "\n",
       "                                                 Desc  \\\n",
       "2   \\n\\n\\tتوفي الطفل علي حسين العسكر من بلدة قب ال...   \n",
       "3   \\n\\n\\tأكد نائب رئيس حزب \"القوات اللبنانية\" عضو...   \n",
       "4   \\n\\n\\tتوج كابتن منتخب كرواتيا لوكا مودريتش بجا...   \n",
       "9   \\n\\n\\t أكد عضو كتلة \"الجمهورية القوية\" النائب ...   \n",
       "14  \\n\\n\\tأفادت  الوكالة الوطنية للاعلام عن إصابة ...   \n",
       "\n",
       "                                                Image          Type  \n",
       "2   http://www.lebanonfiles.com/files/images/15-07...  أخبار محليّة  \n",
       "3   http://www.lebanonfiles.com/files/images/15-07...  أخبار محليّة  \n",
       "4   http://www.lebanonfiles.com/files/images/15-07...  أخبار رياضية  \n",
       "9   http://www.lebanonfiles.com/files/images/15-07...  أخبار محليّة  \n",
       "14  http://www.lebanonfiles.com/files/images/15-07...  أخبار محليّة  "
      ]
     },
     "execution_count": 46,
     "metadata": {},
     "output_type": "execute_result"
    }
   ],
   "source": [
    "useful.head(5)"
   ]
  },
  {
   "cell_type": "markdown",
   "metadata": {},
   "source": [
    "### Convert the arabic date to datetime format"
   ]
  },
  {
   "cell_type": "code",
   "execution_count": 41,
   "metadata": {},
   "outputs": [],
   "source": [
    "def convert_to_date(x):\n",
    "    dicta =  {\"كانون الثاني\": \"january\" ,\"شباط\": \"february\", \"أيار\": \"may\",  \"نيسان\": \"April\",\n",
    "         \"آذار\": \"march\", \"حزيران\": \"june\", \"تموز\": \"july\", \"آب\": \"august\", \"أيلول\": \"september\",\n",
    "         \"تشرين الأول\": \"october\", \"تشرين الثاني\": \"november\", \"كانون الأول\": \"december\",\n",
    "         \"الاثنين\": \"monday\", \"الثلاثاء\": \"tuesday\", \"الأربعاء\": \"wednesday\", \"الخميس\": \"thursday\", \"الجمعة\": \"friday\",\n",
    "         \"السبت\": \"saturday\", \"الأحد\": \"sunday\"}\n",
    "    if len(x)>0:\n",
    "        res = ' '.join([dicta.get(i, i) for i in x.split()])\n",
    "        res2 = dparser.parse(res, fuzzy=True)\n",
    "    return res2"
   ]
  },
  {
   "cell_type": "code",
   "execution_count": 51,
   "metadata": {},
   "outputs": [
    {
     "name": "stderr",
     "output_type": "stream",
     "text": [
      "C:\\Users\\Hadi\\Anaconda3\\lib\\site-packages\\ipykernel_launcher.py:1: SettingWithCopyWarning: \n",
      "A value is trying to be set on a copy of a slice from a DataFrame.\n",
      "Try using .loc[row_indexer,col_indexer] = value instead\n",
      "\n",
      "See the caveats in the documentation: http://pandas.pydata.org/pandas-docs/stable/user_guide/indexing.html#returning-a-view-versus-a-copy\n",
      "  \"\"\"Entry point for launching an IPython kernel.\n"
     ]
    }
   ],
   "source": [
    "useful['Date'] = useful.Date.apply(convert_to_date)"
   ]
  },
  {
   "cell_type": "markdown",
   "metadata": {},
   "source": [
    "### Clean the \"Desc\" column (remove \\t and other symbols)"
   ]
  },
  {
   "cell_type": "code",
   "execution_count": 60,
   "metadata": {},
   "outputs": [],
   "source": [
    "def clean_str(sent):\n",
    "    ''' This function is used to remove spaces at the beginning and at the end of the string. Also to replace control characters and to replace more than one space by only one'''\n",
    "    res = sent.strip()\n",
    "    res = re.sub('[\\n\\r\\t\\xa0]', '', res)\n",
    "    return re.sub(' +', ' ', res)"
   ]
  },
  {
   "cell_type": "code",
   "execution_count": 61,
   "metadata": {},
   "outputs": [
    {
     "name": "stderr",
     "output_type": "stream",
     "text": [
      "C:\\Users\\Hadi\\Anaconda3\\lib\\site-packages\\ipykernel_launcher.py:1: SettingWithCopyWarning: \n",
      "A value is trying to be set on a copy of a slice from a DataFrame.\n",
      "Try using .loc[row_indexer,col_indexer] = value instead\n",
      "\n",
      "See the caveats in the documentation: http://pandas.pydata.org/pandas-docs/stable/user_guide/indexing.html#returning-a-view-versus-a-copy\n",
      "  \"\"\"Entry point for launching an IPython kernel.\n"
     ]
    }
   ],
   "source": [
    "useful['Desc'] = useful.Desc.apply(clean_str)"
   ]
  },
  {
   "cell_type": "code",
   "execution_count": 62,
   "metadata": {},
   "outputs": [
    {
     "data": {
      "text/html": [
       "<div>\n",
       "<style scoped>\n",
       "    .dataframe tbody tr th:only-of-type {\n",
       "        vertical-align: middle;\n",
       "    }\n",
       "\n",
       "    .dataframe tbody tr th {\n",
       "        vertical-align: top;\n",
       "    }\n",
       "\n",
       "    .dataframe thead th {\n",
       "        text-align: right;\n",
       "    }\n",
       "</style>\n",
       "<table border=\"1\" class=\"dataframe\">\n",
       "  <thead>\n",
       "    <tr style=\"text-align: right;\">\n",
       "      <th></th>\n",
       "      <th>Id</th>\n",
       "      <th>Title</th>\n",
       "      <th>Date</th>\n",
       "      <th>Desc</th>\n",
       "      <th>Image</th>\n",
       "      <th>Type</th>\n",
       "    </tr>\n",
       "  </thead>\n",
       "  <tbody>\n",
       "    <tr>\n",
       "      <th>2</th>\n",
       "      <td>1350002</td>\n",
       "      <td>وفاة طفل غرقا في عين الزرقاء</td>\n",
       "      <td>2018-07-15 20:51:00</td>\n",
       "      <td>توفي الطفل علي حسين العسكر من بلدة قب الياس غر...</td>\n",
       "      <td>http://www.lebanonfiles.com/files/images/15-07...</td>\n",
       "      <td>أخبار محليّة</td>\n",
       "    </tr>\n",
       "    <tr>\n",
       "      <th>3</th>\n",
       "      <td>1350000</td>\n",
       "      <td>عدوان: لا شيء يمنع من تقاطع في العمل الحكومي و...</td>\n",
       "      <td>2018-07-15 20:41:00</td>\n",
       "      <td>أكد نائب رئيس حزب \"القوات اللبنانية\" عضو تكتل ...</td>\n",
       "      <td>http://www.lebanonfiles.com/files/images/15-07...</td>\n",
       "      <td>أخبار محليّة</td>\n",
       "    </tr>\n",
       "    <tr>\n",
       "      <th>4</th>\n",
       "      <td>1350006</td>\n",
       "      <td>من هو أفضل لاعب في مونديال روسيا؟</td>\n",
       "      <td>2018-07-15 21:26:00</td>\n",
       "      <td>توج كابتن منتخب كرواتيا لوكا مودريتش بجائزة أف...</td>\n",
       "      <td>http://www.lebanonfiles.com/files/images/15-07...</td>\n",
       "      <td>أخبار رياضية</td>\n",
       "    </tr>\n",
       "    <tr>\n",
       "      <th>9</th>\n",
       "      <td>1350009</td>\n",
       "      <td>الحواط: تحالفت مع القوات ووضعت يدي بيد جعجع ان...</td>\n",
       "      <td>2018-07-15 21:29:00</td>\n",
       "      <td>أكد عضو كتلة \"الجمهورية القوية\" النائب زياد ال...</td>\n",
       "      <td>http://www.lebanonfiles.com/files/images/15-07...</td>\n",
       "      <td>أخبار محليّة</td>\n",
       "    </tr>\n",
       "    <tr>\n",
       "      <th>14</th>\n",
       "      <td>1350014</td>\n",
       "      <td>جريح في إشكال تطور إلى إطلاق نار في مخيم عين ا...</td>\n",
       "      <td>2018-07-15 22:02:00</td>\n",
       "      <td>أفادت الوكالة الوطنية للاعلام عن إصابة محمود ج...</td>\n",
       "      <td>http://www.lebanonfiles.com/files/images/15-07...</td>\n",
       "      <td>أخبار محليّة</td>\n",
       "    </tr>\n",
       "  </tbody>\n",
       "</table>\n",
       "</div>"
      ],
      "text/plain": [
       "         Id                                              Title  \\\n",
       "2   1350002                       وفاة طفل غرقا في عين الزرقاء   \n",
       "3   1350000  عدوان: لا شيء يمنع من تقاطع في العمل الحكومي و...   \n",
       "4   1350006                  من هو أفضل لاعب في مونديال روسيا؟   \n",
       "9   1350009  الحواط: تحالفت مع القوات ووضعت يدي بيد جعجع ان...   \n",
       "14  1350014  جريح في إشكال تطور إلى إطلاق نار في مخيم عين ا...   \n",
       "\n",
       "                  Date                                               Desc  \\\n",
       "2  2018-07-15 20:51:00  توفي الطفل علي حسين العسكر من بلدة قب الياس غر...   \n",
       "3  2018-07-15 20:41:00  أكد نائب رئيس حزب \"القوات اللبنانية\" عضو تكتل ...   \n",
       "4  2018-07-15 21:26:00  توج كابتن منتخب كرواتيا لوكا مودريتش بجائزة أف...   \n",
       "9  2018-07-15 21:29:00  أكد عضو كتلة \"الجمهورية القوية\" النائب زياد ال...   \n",
       "14 2018-07-15 22:02:00  أفادت الوكالة الوطنية للاعلام عن إصابة محمود ج...   \n",
       "\n",
       "                                                Image          Type  \n",
       "2   http://www.lebanonfiles.com/files/images/15-07...  أخبار محليّة  \n",
       "3   http://www.lebanonfiles.com/files/images/15-07...  أخبار محليّة  \n",
       "4   http://www.lebanonfiles.com/files/images/15-07...  أخبار رياضية  \n",
       "9   http://www.lebanonfiles.com/files/images/15-07...  أخبار محليّة  \n",
       "14  http://www.lebanonfiles.com/files/images/15-07...  أخبار محليّة  "
      ]
     },
     "execution_count": 62,
     "metadata": {},
     "output_type": "execute_result"
    }
   ],
   "source": [
    "useful.head(5)"
   ]
  },
  {
   "cell_type": "code",
   "execution_count": 9,
   "metadata": {},
   "outputs": [
    {
     "data": {
      "text/plain": [
       "(12515, 6)"
      ]
     },
     "execution_count": 9,
     "metadata": {},
     "output_type": "execute_result"
    }
   ],
   "source": [
    "useful.shape"
   ]
  },
  {
   "cell_type": "code",
   "execution_count": 10,
   "metadata": {},
   "outputs": [
    {
     "data": {
      "text/html": [
       "<div>\n",
       "<style scoped>\n",
       "    .dataframe tbody tr th:only-of-type {\n",
       "        vertical-align: middle;\n",
       "    }\n",
       "\n",
       "    .dataframe tbody tr th {\n",
       "        vertical-align: top;\n",
       "    }\n",
       "\n",
       "    .dataframe thead th {\n",
       "        text-align: right;\n",
       "    }\n",
       "</style>\n",
       "<table border=\"1\" class=\"dataframe\">\n",
       "  <thead>\n",
       "    <tr style=\"text-align: right;\">\n",
       "      <th></th>\n",
       "      <th>Id</th>\n",
       "      <th>Title</th>\n",
       "      <th>Date</th>\n",
       "      <th>Desc</th>\n",
       "      <th>Image</th>\n",
       "      <th>Type</th>\n",
       "    </tr>\n",
       "  </thead>\n",
       "  <tbody>\n",
       "    <tr>\n",
       "      <th>count</th>\n",
       "      <td>12515</td>\n",
       "      <td>12515</td>\n",
       "      <td>12515</td>\n",
       "      <td>12515</td>\n",
       "      <td>12502</td>\n",
       "      <td>12515</td>\n",
       "    </tr>\n",
       "    <tr>\n",
       "      <th>unique</th>\n",
       "      <td>12514</td>\n",
       "      <td>12423</td>\n",
       "      <td>11929</td>\n",
       "      <td>12490</td>\n",
       "      <td>12408</td>\n",
       "      <td>5</td>\n",
       "    </tr>\n",
       "    <tr>\n",
       "      <th>top</th>\n",
       "      <td>1353959</td>\n",
       "      <td>الدفاع المدني: مهمات إنقاذ وإسعاف وإخماد حرائق...</td>\n",
       "      <td>2018-07-27 11:17:00</td>\n",
       "      <td>\\n</td>\n",
       "      <td>http://www.lebanonfiles.com/files/images/30-07...</td>\n",
       "      <td>أخبار محليّة</td>\n",
       "    </tr>\n",
       "    <tr>\n",
       "      <th>freq</th>\n",
       "      <td>2</td>\n",
       "      <td>30</td>\n",
       "      <td>4</td>\n",
       "      <td>15</td>\n",
       "      <td>3</td>\n",
       "      <td>7006</td>\n",
       "    </tr>\n",
       "    <tr>\n",
       "      <th>first</th>\n",
       "      <td>NaN</td>\n",
       "      <td>NaN</td>\n",
       "      <td>2018-01-15 00:17:00</td>\n",
       "      <td>NaN</td>\n",
       "      <td>NaN</td>\n",
       "      <td>NaN</td>\n",
       "    </tr>\n",
       "    <tr>\n",
       "      <th>last</th>\n",
       "      <td>NaN</td>\n",
       "      <td>NaN</td>\n",
       "      <td>2018-09-30 22:14:00</td>\n",
       "      <td>NaN</td>\n",
       "      <td>NaN</td>\n",
       "      <td>NaN</td>\n",
       "    </tr>\n",
       "  </tbody>\n",
       "</table>\n",
       "</div>"
      ],
      "text/plain": [
       "             Id                                              Title  \\\n",
       "count     12515                                              12515   \n",
       "unique    12514                                              12423   \n",
       "top     1353959  الدفاع المدني: مهمات إنقاذ وإسعاف وإخماد حرائق...   \n",
       "freq          2                                                 30   \n",
       "first       NaN                                                NaN   \n",
       "last        NaN                                                NaN   \n",
       "\n",
       "                       Date   Desc  \\\n",
       "count                 12515  12515   \n",
       "unique                11929  12490   \n",
       "top     2018-07-27 11:17:00     \\n   \n",
       "freq                      4     15   \n",
       "first   2018-01-15 00:17:00    NaN   \n",
       "last    2018-09-30 22:14:00    NaN   \n",
       "\n",
       "                                                    Image          Type  \n",
       "count                                               12502         12515  \n",
       "unique                                              12408             5  \n",
       "top     http://www.lebanonfiles.com/files/images/30-07...  أخبار محليّة  \n",
       "freq                                                    3          7006  \n",
       "first                                                 NaN           NaN  \n",
       "last                                                  NaN           NaN  "
      ]
     },
     "execution_count": 10,
     "metadata": {},
     "output_type": "execute_result"
    }
   ],
   "source": [
    "useful.describe()"
   ]
  },
  {
   "cell_type": "code",
   "execution_count": 11,
   "metadata": {},
   "outputs": [
    {
     "data": {
      "text/plain": [
       "Id               object\n",
       "Title            object\n",
       "Date     datetime64[ns]\n",
       "Desc             object\n",
       "Image            object\n",
       "Type             object\n",
       "dtype: object"
      ]
     },
     "execution_count": 11,
     "metadata": {},
     "output_type": "execute_result"
    }
   ],
   "source": [
    "useful.dtypes"
   ]
  },
  {
   "cell_type": "code",
   "execution_count": 12,
   "metadata": {},
   "outputs": [
    {
     "data": {
      "text/plain": [
       "Id       12514\n",
       "Title    12423\n",
       "Date     11929\n",
       "Desc     12490\n",
       "Image    12408\n",
       "Type         5\n",
       "dtype: int64"
      ]
     },
     "execution_count": 12,
     "metadata": {},
     "output_type": "execute_result"
    }
   ],
   "source": [
    "useful.nunique()"
   ]
  },
  {
   "cell_type": "markdown",
   "metadata": {},
   "source": [
    "### Convert the target class from text to number"
   ]
  },
  {
   "cell_type": "code",
   "execution_count": 22,
   "metadata": {},
   "outputs": [],
   "source": [
    "class2index = dict(zip(useful_categories, range(len(useful_categories))))"
   ]
  },
  {
   "cell_type": "code",
   "execution_count": 64,
   "metadata": {},
   "outputs": [
    {
     "name": "stderr",
     "output_type": "stream",
     "text": [
      "C:\\Users\\Hadi\\Anaconda3\\lib\\site-packages\\ipykernel_launcher.py:1: SettingWithCopyWarning: \n",
      "A value is trying to be set on a copy of a slice from a DataFrame.\n",
      "Try using .loc[row_indexer,col_indexer] = value instead\n",
      "\n",
      "See the caveats in the documentation: http://pandas.pydata.org/pandas-docs/stable/user_guide/indexing.html#returning-a-view-versus-a-copy\n",
      "  \"\"\"Entry point for launching an IPython kernel.\n"
     ]
    }
   ],
   "source": [
    "useful['Type'] = useful['Type'].map(class2index)"
   ]
  },
  {
   "cell_type": "code",
   "execution_count": 65,
   "metadata": {
    "scrolled": false
   },
   "outputs": [
    {
     "data": {
      "text/plain": [
       "<matplotlib.axes._subplots.AxesSubplot at 0x1c41118ec08>"
      ]
     },
     "execution_count": 65,
     "metadata": {},
     "output_type": "execute_result"
    },
    {
     "data": {
      "image/png": "[encoded data removed]",
      "text/plain": [
       "<Figure size 432x288 with 1 Axes>"
      ]
     },
     "metadata": {
      "needs_background": "light"
     },
     "output_type": "display_data"
    }
   ],
   "source": [
    "useful.groupby('Type').size().plot(kind='bar')"
   ]
  },
  {
   "cell_type": "markdown",
   "metadata": {},
   "source": [
    "#### As we can see the data is unbalanced so as scorer we use the F1 Score as scorer dor our challenge"
   ]
  },
  {
   "cell_type": "markdown",
   "metadata": {},
   "source": [
    "### Naive fill for the \"Desc\" Column"
   ]
  },
  {
   "cell_type": "code",
   "execution_count": 53,
   "metadata": {},
   "outputs": [
    {
     "name": "stderr",
     "output_type": "stream",
     "text": [
      "C:\\Users\\Hadi\\Anaconda3\\lib\\site-packages\\pandas\\core\\indexing.py:494: SettingWithCopyWarning: \n",
      "A value is trying to be set on a copy of a slice from a DataFrame.\n",
      "Try using .loc[row_indexer,col_indexer] = value instead\n",
      "\n",
      "See the caveats in the documentation: http://pandas.pydata.org/pandas-docs/stable/user_guide/indexing.html#returning-a-view-versus-a-copy\n",
      "  self.obj[item] = s\n"
     ]
    }
   ],
   "source": [
    "useful.loc[useful['Desc']=='\\n', 'Desc'] = useful['Title']"
   ]
  },
  {
   "cell_type": "markdown",
   "metadata": {},
   "source": [
    "### Remove stop words (list os stop words from IMT github)"
   ]
  },
  {
   "cell_type": "code",
   "execution_count": 66,
   "metadata": {},
   "outputs": [],
   "source": [
    "stop_arab_words = ['،', 'ء', 'ءَ', 'آ', 'آب', 'آذار', 'آض', 'آل', 'آمينَ', 'آناء', 'آنفا', 'آه', 'آهاً', 'آهٍ', 'آهِ', 'أ', 'أبدا', 'أبريل', 'أبو', 'أبٌ', 'أجل', 'أجمع', 'أحد', 'أخبر', 'أخذ', 'أخو', 'أخٌ', 'أربع', 'أربعاء', 'أربعة', 'أربعمئة', 'أربعمائة', 'أرى', 'أسكن', 'أصبح', 'أصلا', 'أضحى', 'أطعم', 'أعطى', 'أعلم', 'أغسطس', 'أفريل', 'أفعل به', 'أفٍّ', 'أقبل', 'أكتوبر', 'أل', 'ألا', 'ألف', 'ألفى', 'أم', 'أما', 'أمام', 'أمامك', 'أمامكَ', 'أمد', 'أمس', 'أمسى', 'أمّا', 'أن', 'أنا', 'أنبأ', 'أنت', 'أنتم', 'أنتما', 'أنتن', 'أنتِ', 'أنشأ', 'أنه', 'أنًّ', 'أنّى', 'أهلا', 'أو', 'أوت', 'أوشك', 'أول', 'أولئك', 'أولاء', 'أولالك', 'أوّهْ', 'أى', 'أي', 'أيا', 'أيار', 'أيضا', 'أيلول', 'أين', 'أيّ', 'أيّان', 'أُفٍّ', 'ؤ', 'إحدى', 'إذ', 'إذا', 'إذاً', 'إذما', 'إذن', 'إزاء', 'إلى', 'إلي', 'إليكم', 'إليكما', 'إليكنّ', 'إليكَ', 'إلَيْكَ', 'إلّا', 'إمّا', 'إن', 'إنَّ', 'إى', 'إياك', 'إياكم', 'إياكما', 'إياكن', 'إيانا', 'إياه', 'إياها', 'إياهم', 'إياهما', 'إياهن', 'إياي', 'إيهٍ', 'ئ', 'ا', 'ا?', 'ا?ى', 'االا', 'االتى', 'ابتدأ', 'ابين', 'اتخذ', 'اثر', 'اثنا', 'اثنان', 'اثني', 'اثنين', 'اجل', 'احد', 'اخرى', 'اخلولق', 'اذا', 'اربعة', 'اربعون', 'اربعين', 'ارتدّ', 'استحال', 'اصبح', 'اضحى', 'اطار', 'اعادة', 'اعلنت', 'اف', 'اكثر', 'اكد', 'الآن', 'الألاء', 'الألى', 'الا', 'الاخيرة', 'الان', 'الاول', 'الاولى', 'التى', 'التي', 'الثاني', 'الثانية', 'الحالي', 'الذاتي', 'الذى', 'الذي', 'الذين', 'السابق', 'الف', 'اللاتي', 'اللتان', 'اللتيا', 'اللتين', 'اللذان', 'اللذين', 'اللواتي', 'الماضي', 'المقبل', 'الوقت', 'الى', 'الي', 'اليه', 'اليها', 'اليوم', 'اما', 'امام', 'امس', 'امسى', 'ان', 'انبرى', 'انقلب', 'انه', 'انها', 'او', 'اول', 'اي', 'ايار', 'ايام', 'ايضا', 'ب', 'بؤسا', 'بإن', 'بئس', 'باء', 'بات', 'باسم', 'بان', 'بخٍ', 'بد', 'بدلا', 'برس', 'بسبب', 'بسّ', 'بشكل', 'بضع', 'بطآن', 'بعد', 'بعدا', 'بعض', 'بغتة', 'بل', 'بلى', 'بن', 'به', 'بها', 'بهذا', 'بيد', 'بين', 'بَسْ', 'بَلْهَ', 'ة', 'ت', 'تاء', 'تارة', 'تاسع', 'تانِ', 'تانِك', 'تبدّل', 'تجاه', 'تحت', 'تحوّل', 'تخذ', 'ترك', 'تسع', 'تسعة', 'تسعمئة', 'تسعمائة', 'تسعون', 'تسعين', 'تشرين', 'تعسا', 'تعلَّم', 'تفعلان', 'تفعلون', 'تفعلين', 'تكون', 'تلقاء', 'تلك', 'تم', 'تموز', 'تينك', 'تَيْنِ', 'تِه', 'تِي', 'ث', 'ثاء', 'ثالث', 'ثامن', 'ثان', 'ثاني', 'ثلاث', 'ثلاثاء', 'ثلاثة', 'ثلاثمئة', 'ثلاثمائة', 'ثلاثون', 'ثلاثين', 'ثم', 'ثمان', 'ثمانمئة', 'ثمانون', 'ثماني', 'ثمانية', 'ثمانين', 'ثمنمئة', 'ثمَّ', 'ثمّ', 'ثمّة', 'ج', 'جانفي', 'جدا', 'جعل', 'جلل', 'جمعة', 'جميع', 'جنيه', 'جوان', 'جويلية', 'جير', 'جيم', 'ح', 'حاء', 'حادي', 'حار', 'حاشا', 'حاليا', 'حاي', 'حبذا', 'حبيب', 'حتى', 'حجا', 'حدَث', 'حرى', 'حزيران', 'حسب', 'حقا', 'حمدا', 'حمو', 'حمٌ', 'حوالى', 'حول', 'حيث', 'حيثما', 'حين', 'حيَّ', 'حَذارِ', 'خ', 'خاء', 'خاصة', 'خال', 'خامس', 'خبَّر', 'خلا', 'خلافا', 'خلال', 'خلف', 'خمس', 'خمسة', 'خمسمئة', 'خمسمائة', 'خمسون', 'خمسين', 'خميس', 'د', 'دال', 'درهم', 'درى', 'دواليك', 'دولار', 'دون', 'دونك', 'ديسمبر', 'دينار', 'ذ', 'ذا', 'ذات', 'ذاك', 'ذال', 'ذانك', 'ذانِ', 'ذلك', 'ذهب', 'ذو', 'ذيت', 'ذينك', 'ذَيْنِ', 'ذِه', 'ذِي', 'ر', 'رأى', 'راء', 'رابع', 'راح', 'رجع', 'رزق', 'رويدك', 'ريال', 'ريث', 'رُبَّ', 'ز', 'زاي', 'زعم', 'زود', 'زيارة', 'س', 'ساء', 'سابع', 'سادس', 'سبت', 'سبتمبر', 'سبحان', 'سبع', 'سبعة', 'سبعمئة', 'سبعمائة', 'سبعون', 'سبعين', 'ست', 'ستة', 'ستكون', 'ستمئة', 'ستمائة', 'ستون', 'ستين', 'سحقا', 'سرا', 'سرعان', 'سقى', 'سمعا', 'سنة', 'سنتيم', 'سنوات', 'سوف', 'سوى', 'سين', 'ش', 'شباط', 'شبه', 'شتانَ', 'شخصا', 'شرع', 'شمال', 'شيكل', 'شين', 'شَتَّانَ', 'ص', 'صاد', 'صار', 'صباح', 'صبر', 'صبرا', 'صدقا', 'صراحة', 'صفر', 'صهٍ', 'صهْ', 'ض', 'ضاد', 'ضحوة', 'ضد', 'ضمن', 'ط', 'طاء', 'طاق', 'طالما', 'طرا', 'طفق', 'طَق', 'ظ', 'ظاء', 'ظل', 'ظلّ', 'ظنَّ', 'ع', 'عاد', 'عاشر', 'عام', 'عاما', 'عامة', 'عجبا', 'عدا', 'عدة', 'عدد', 'عدم', 'عدَّ', 'عسى', 'عشر', 'عشرة', 'عشرون', 'عشرين', 'عل', 'علق', 'علم', 'على', 'علي', 'عليك', 'عليه', 'عليها', 'علًّ', 'عن', 'عند', 'عندما', 'عنه', 'عنها', 'عوض', 'عيانا', 'عين', 'عَدَسْ', 'غ', 'غادر', 'غالبا', 'غدا', 'غداة', 'غير', 'غين', 'ـ', 'ف', 'فإن', 'فاء', 'فان', 'فانه', 'فبراير', 'فرادى', 'فضلا', 'فقد', 'فقط', 'فكان', 'فلان', 'فلس', 'فهو', 'فو', 'فوق', 'فى', 'في', 'فيفري', 'فيه', 'فيها', 'ق', 'قاطبة', 'قاف', 'قال', 'قام', 'قبل', 'قد', 'قرش', 'قطّ', 'قلما', 'قوة', 'ك', 'كأن', 'كأنّ', 'كأيّ', 'كأيّن', 'كاد', 'كاف', 'كان', 'كانت', 'كانون', 'كثيرا', 'كذا', 'كذلك', 'كرب', 'كسا', 'كل', 'كلتا', 'كلم', 'كلَّا', 'كلّما', 'كم', 'كما', 'كن', 'كى', 'كيت', 'كيف', 'كيفما', 'كِخ', 'ل', 'لأن', 'لا', 'لا سيما', 'لات', 'لازال', 'لاسيما', 'لام', 'لايزال', 'لبيك', 'لدن', 'لدى', 'لدي', 'لذلك', 'لعل', 'لعلَّ', 'لعمر', 'لقاء', 'لكن', 'لكنه', 'لكنَّ', 'للامم', 'لم', 'لما', 'لمّا', 'لن', 'له', 'لها', 'لهذا', 'لهم', 'لو', 'لوكالة', 'لولا', 'لوما', 'ليت', 'ليرة', 'ليس', 'ليسب', 'م', 'مئة', 'مئتان', 'ما', 'ما أفعله', 'ما انفك', 'ما برح', 'مائة', 'ماانفك', 'مابرح', 'مادام', 'ماذا', 'مارس', 'مازال', 'مافتئ', 'ماي', 'مايزال', 'مايو', 'متى', 'مثل', 'مذ', 'مرّة', 'مساء', 'مع', 'معاذ', 'معه', 'مقابل', 'مكانكم', 'مكانكما', 'مكانكنّ', 'مكانَك', 'مليار', 'مليم', 'مليون', 'مما', 'من', 'منذ', 'منه', 'منها', 'مه', 'مهما', 'ميم', 'ن', 'نا', 'نبَّا', 'نحن', 'نحو', 'نعم', 'نفس', 'نفسه', 'نهاية', 'نوفمبر', 'نون', 'نيسان', 'نيف', 'نَخْ', 'نَّ', 'ه', 'هؤلاء', 'ها', 'هاء', 'هاكَ', 'هبّ', 'هذا', 'هذه', 'هل', 'هللة', 'هلم', 'هلّا', 'هم', 'هما', 'همزة', 'هن', 'هنا', 'هناك', 'هنالك', 'هو', 'هي', 'هيا', 'هيهات', 'هيّا', 'هَؤلاء', 'هَاتانِ', 'هَاتَيْنِ', 'هَاتِه', 'هَاتِي', 'هَجْ', 'هَذا', 'هَذانِ', 'هَذَيْنِ', 'هَذِه', 'هَذِي', 'هَيْهات', 'و', 'و6', 'وأبو', 'وأن', 'وا', 'واحد', 'واضاف', 'واضافت', 'واكد', 'والتي', 'والذي', 'وان', 'واهاً', 'واو', 'واوضح', 'وبين', 'وثي', 'وجد', 'وراءَك', 'ورد', 'وعلى', 'وفي', 'وقال', 'وقالت', 'وقد', 'وقف', 'وكان', 'وكانت', 'ولا', 'ولايزال', 'ولكن', 'ولم', 'وله', 'وليس', 'ومع', 'ومن', 'وهب', 'وهذا', 'وهو', 'وهي', 'وَيْ', 'وُشْكَانَ', 'ى', 'ي', 'ياء', 'يفعلان', 'يفعلون', 'يكون', 'يلي', 'يمكن', 'يمين', 'ين', 'يناير', 'يوان', 'يورو', 'يوليو', 'يوم', 'يونيو', 'ّأيّان']\n"
   ]
  },
  {
   "cell_type": "code",
   "execution_count": null,
   "metadata": {},
   "outputs": [],
   "source": []
  }
 ],
 "metadata": {
  "kernelspec": {
   "display_name": "Python 3",
   "language": "python",
   "name": "python3"
  },
  "language_info": {
   "codemirror_mode": {
    "name": "ipython",
    "version": 3
   },
   "file_extension": ".py",
   "mimetype": "text/x-python",
   "name": "python",
   "nbconvert_exporter": "python",
   "pygments_lexer": "ipython3",
   "version": "3.7.6"
  }
 },
 "nbformat": 4,
 "nbformat_minor": 2
}
